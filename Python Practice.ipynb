{
 "cells": [
  {
   "cell_type": "markdown",
   "id": "32961771",
   "metadata": {
    "ExecuteTime": {
     "end_time": "2022-03-24T20:48:31.057252Z",
     "start_time": "2022-03-24T20:48:31.042250Z"
    }
   },
   "source": [
    "https://pynative.com/python-basic-exercise-for-beginners/"
   ]
  },
  {
   "cell_type": "markdown",
   "id": "a6e09b90",
   "metadata": {},
   "source": [
    "## Basic Exercise for Beginners"
   ]
  },
  {
   "cell_type": "markdown",
   "id": "9271e3a3",
   "metadata": {
    "ExecuteTime": {
     "end_time": "2022-03-21T21:50:58.644251Z",
     "start_time": "2022-03-21T21:50:58.627263Z"
    }
   },
   "source": [
    "Exercise 1: Calculate the multiplication and sum of two numbers\n",
    "Given two integer numbers return their product only if the product is greater than 1000, else return their sum."
   ]
  },
  {
   "cell_type": "code",
   "execution_count": 23,
   "id": "162fb1bc",
   "metadata": {
    "ExecuteTime": {
     "end_time": "2022-06-03T19:25:07.496900Z",
     "start_time": "2022-06-03T19:25:07.475141Z"
    }
   },
   "outputs": [
    {
     "name": "stdout",
     "output_type": "stream",
     "text": [
      "according to que, product of 40 and 50 is : 90\n",
      "according to que, product of 40 and 2 is : 80\n"
     ]
    }
   ],
   "source": [
    "def mult_2(n1, n2):\n",
    "    product = n1*n2\n",
    "    if product <= 1000:\n",
    "        return product\n",
    "    else:\n",
    "        return n1+n2\n",
    "    \n",
    "print(\"according to que, product of 40 and 50 is :\",mult_2(40,50))\n",
    "print(\"according to que, product of 40 and 2 is :\",mult_2(40,2))"
   ]
  },
  {
   "cell_type": "code",
   "execution_count": null,
   "id": "01156d89",
   "metadata": {},
   "outputs": [],
   "source": []
  },
  {
   "cell_type": "markdown",
   "id": "bdbc8762",
   "metadata": {
    "ExecuteTime": {
     "end_time": "2022-03-24T20:16:01.417051Z",
     "start_time": "2022-03-24T20:16:01.401131Z"
    }
   },
   "source": [
    "Exercise 2: Print the sum of the current number and the previous number\n",
    "Write a program to iterate the first 10 numbers and in each iteration, print the sum of the current and previous number."
   ]
  },
  {
   "cell_type": "code",
   "execution_count": 24,
   "id": "825657f1",
   "metadata": {
    "ExecuteTime": {
     "end_time": "2022-06-03T19:25:07.512082Z",
     "start_time": "2022-06-03T19:25:07.498119Z"
    },
    "scrolled": true
   },
   "outputs": [
    {
     "name": "stdout",
     "output_type": "stream",
     "text": [
      "Current num :  0  previous num : 0  sum is :  0\n",
      "Current num :  1  previous num : 0  sum is :  1\n",
      "Current num :  2  previous num : 1  sum is :  3\n",
      "Current num :  3  previous num : 2  sum is :  5\n",
      "Current num :  4  previous num : 3  sum is :  7\n",
      "Current num :  5  previous num : 4  sum is :  9\n",
      "Current num :  6  previous num : 5  sum is :  11\n",
      "Current num :  7  previous num : 6  sum is :  13\n",
      "Current num :  8  previous num : 7  sum is :  15\n",
      "Current num :  9  previous num : 8  sum is :  17\n"
     ]
    }
   ],
   "source": [
    "def print_10():\n",
    "    pnum = 0\n",
    "    for i in range(10):\n",
    "        print(\"Current num : \",i,\" previous num :\",pnum,\" sum is : \",i+pnum)\n",
    "        pnum = i\n",
    "print_10()"
   ]
  },
  {
   "cell_type": "code",
   "execution_count": null,
   "id": "23404d48",
   "metadata": {},
   "outputs": [],
   "source": []
  },
  {
   "cell_type": "markdown",
   "id": "e308f9bc",
   "metadata": {
    "ExecuteTime": {
     "end_time": "2022-03-24T20:28:59.619040Z",
     "start_time": "2022-03-24T20:28:59.600090Z"
    }
   },
   "source": [
    "Exercise 3: Print characters from a string that are present at an even index number\n",
    "Write a program to accept a string from the user and display characters that are present at an even index number."
   ]
  },
  {
   "cell_type": "code",
   "execution_count": 25,
   "id": "406f886f",
   "metadata": {
    "ExecuteTime": {
     "end_time": "2022-06-03T19:25:23.970568Z",
     "start_time": "2022-06-03T19:25:07.513079Z"
    }
   },
   "outputs": [
    {
     "name": "stdout",
     "output_type": "stream",
     "text": [
      "Enter the string : poiuytre\n",
      "p\n",
      "i\n",
      "y\n",
      "r\n"
     ]
    }
   ],
   "source": [
    "def display_even_char(string):\n",
    "    for i in range(0,len(string),2):\n",
    "        print(string[i])\n",
    "string = input(\"Enter the string : \")\n",
    "display_even_char(string)"
   ]
  },
  {
   "cell_type": "code",
   "execution_count": null,
   "id": "91c2e82c",
   "metadata": {},
   "outputs": [],
   "source": []
  },
  {
   "cell_type": "markdown",
   "id": "ec964afa",
   "metadata": {
    "ExecuteTime": {
     "end_time": "2022-03-24T20:40:11.994832Z",
     "start_time": "2022-03-24T20:40:11.990809Z"
    }
   },
   "source": [
    "Exercise 4: Remove first n characters from a string\n",
    "Write a program to remove characters from a string starting from zero up to n and return a new string."
   ]
  },
  {
   "cell_type": "code",
   "execution_count": 26,
   "id": "bda7228a",
   "metadata": {
    "ExecuteTime": {
     "end_time": "2022-06-03T19:25:30.533693Z",
     "start_time": "2022-06-03T19:25:23.971559Z"
    }
   },
   "outputs": [
    {
     "name": "stdout",
     "output_type": "stream",
     "text": [
      "Enter the string (give a space) and n to split : hjghfgdfsdas 3\n",
      "hfgdfsdas\n"
     ]
    }
   ],
   "source": [
    "def remove_char(string,n):\n",
    "    return(string[int(n):])\n",
    "\n",
    "string,n = input(\"Enter the string (give a space) and n to split : \").split()\n",
    "print(remove_char(string,n))"
   ]
  },
  {
   "cell_type": "code",
   "execution_count": null,
   "id": "cb99f3ad",
   "metadata": {},
   "outputs": [],
   "source": []
  },
  {
   "cell_type": "markdown",
   "id": "9d651e39",
   "metadata": {},
   "source": [
    "Exercise 5: Check if the first and last number of a list is the same\n",
    "Write a function to return True if the first and last number of a given list is same. If numbers are different then return False."
   ]
  },
  {
   "cell_type": "code",
   "execution_count": 27,
   "id": "7f7596b8",
   "metadata": {
    "ExecuteTime": {
     "end_time": "2022-06-03T19:25:30.549631Z",
     "start_time": "2022-06-03T19:25:30.534697Z"
    }
   },
   "outputs": [
    {
     "name": "stdout",
     "output_type": "stream",
     "text": [
      "True\n",
      "False\n"
     ]
    }
   ],
   "source": [
    "def is_same(li):\n",
    "    if li[0]==li[-1]:\n",
    "        return True\n",
    "    else:\n",
    "        return False\n",
    "li = [10, 20, 30, 40, 10]\n",
    "print(is_same(li))\n",
    "lis = [75, 65, 35, 75, 30]\n",
    "print(is_same(lis))\n"
   ]
  },
  {
   "cell_type": "code",
   "execution_count": null,
   "id": "50e1e22d",
   "metadata": {},
   "outputs": [],
   "source": []
  },
  {
   "cell_type": "markdown",
   "id": "81de7389",
   "metadata": {},
   "source": [
    "Exercise 6: Display numbers divisible by 5 from a list\n",
    "Iterate the given list of numbers and print only those numbers which are divisible by 5"
   ]
  },
  {
   "cell_type": "code",
   "execution_count": 28,
   "id": "682333c7",
   "metadata": {
    "ExecuteTime": {
     "end_time": "2022-06-03T19:25:30.564596Z",
     "start_time": "2022-06-03T19:25:30.550626Z"
    }
   },
   "outputs": [
    {
     "name": "stdout",
     "output_type": "stream",
     "text": [
      "10\n",
      "20\n",
      "55\n"
     ]
    }
   ],
   "source": [
    "def div_5(li):\n",
    "    for i in li:\n",
    "        if i % 5 == 0:\n",
    "            print(i)\n",
    "lis = [10, 20, 33, 46, 55]\n",
    "div_5(lis)"
   ]
  },
  {
   "cell_type": "code",
   "execution_count": null,
   "id": "3dd57c0d",
   "metadata": {},
   "outputs": [],
   "source": []
  },
  {
   "cell_type": "markdown",
   "id": "cb4ebb27",
   "metadata": {},
   "source": [
    "Exercise 7: Return the count of a given substring from a string\n",
    "Write a program to find how many times substring “Emma” appears in the given string."
   ]
  },
  {
   "cell_type": "code",
   "execution_count": 29,
   "id": "685385d6",
   "metadata": {
    "ExecuteTime": {
     "end_time": "2022-06-03T19:25:38.205412Z",
     "start_time": "2022-06-03T19:25:30.565639Z"
    }
   },
   "outputs": [
    {
     "name": "stdout",
     "output_type": "stream",
     "text": [
      "Enter the string to find 'emma' : jthgrfedwemmajhgref\n",
      "1\n"
     ]
    }
   ],
   "source": [
    "def count_emma(s):\n",
    "    return(s.count('emma'))\n",
    "string = input(r\"Enter the string to find 'emma' : \")\n",
    "print(count_emma(string))"
   ]
  },
  {
   "cell_type": "code",
   "execution_count": null,
   "id": "eb1eaa70",
   "metadata": {},
   "outputs": [],
   "source": []
  },
  {
   "cell_type": "raw",
   "id": "3b7a851c",
   "metadata": {},
   "source": [
    "Exercise 8: Print the following pattern\n",
    "\n",
    "1 \n",
    "2 2 \n",
    "3 3 3 \n",
    "4 4 4 4 \n",
    "5 5 5 5 5"
   ]
  },
  {
   "cell_type": "code",
   "execution_count": 30,
   "id": "b96c107d",
   "metadata": {
    "ExecuteTime": {
     "end_time": "2022-06-03T19:25:38.221332Z",
     "start_time": "2022-06-03T19:25:38.206376Z"
    }
   },
   "outputs": [
    {
     "name": "stdout",
     "output_type": "stream",
     "text": [
      "\n",
      "1 \n",
      "2 2 \n",
      "3 3 3 \n",
      "4 4 4 4 \n",
      "5 5 5 5 5 "
     ]
    }
   ],
   "source": [
    "for i in range(1,6):\n",
    "    print()\n",
    "    for j in range(i):\n",
    "        print(i,end=' ')"
   ]
  },
  {
   "cell_type": "code",
   "execution_count": null,
   "id": "38b54b69",
   "metadata": {},
   "outputs": [],
   "source": []
  },
  {
   "cell_type": "markdown",
   "id": "3569ccec",
   "metadata": {},
   "source": [
    "Exercise 9: Check Palindrome Number\n",
    "Write a program to check if the given number is a palindrome number.\n",
    "\n",
    "A palindrome number is a number that is same after reverse. For example 545, is the palindrome numbers"
   ]
  },
  {
   "cell_type": "code",
   "execution_count": 31,
   "id": "a8c401eb",
   "metadata": {
    "ExecuteTime": {
     "end_time": "2022-06-03T19:25:42.233726Z",
     "start_time": "2022-06-03T19:25:38.222363Z"
    }
   },
   "outputs": [
    {
     "name": "stdout",
     "output_type": "stream",
     "text": [
      "enter string to check if palindrome : qwertytrewq\n",
      "True\n"
     ]
    }
   ],
   "source": [
    "def if_pal(s):\n",
    "    return s == s[::-1]\n",
    "print(if_pal(input('enter string to check if palindrome : ')))"
   ]
  },
  {
   "cell_type": "code",
   "execution_count": null,
   "id": "0c7a4172",
   "metadata": {},
   "outputs": [],
   "source": []
  },
  {
   "cell_type": "markdown",
   "id": "2e7f959b",
   "metadata": {},
   "source": [
    "Exercise 10: Create a new list from a two list using the following condition.\n",
    "\n",
    "Given a two list of numbers, write a program to create a new list such that the new list should contain odd numbers from the first list and even numbers from the second list"
   ]
  },
  {
   "cell_type": "code",
   "execution_count": 32,
   "id": "0a6c88c8",
   "metadata": {
    "ExecuteTime": {
     "end_time": "2022-06-03T19:25:42.249683Z",
     "start_time": "2022-06-03T19:25:42.237718Z"
    },
    "scrolled": true
   },
   "outputs": [
    {
     "data": {
      "text/plain": [
       "[25, 35, 40, 60, 90]"
      ]
     },
     "execution_count": 32,
     "metadata": {},
     "output_type": "execute_result"
    }
   ],
   "source": [
    "to_odd = [10, 20, 25, 30, 35]\n",
    "to_even = [40, 45, 60, 75, 90]\n",
    "\n",
    "def merglist(odd,even):\n",
    "    newlist = []\n",
    "    for i in odd:\n",
    "        if i % 2 != 0:\n",
    "            newlist.append(i)\n",
    "    for i in even:\n",
    "        if i % 2 == 0:\n",
    "            newlist.append(i)\n",
    "    return newlist\n",
    "\n",
    "merglist(to_odd,to_even)"
   ]
  },
  {
   "cell_type": "code",
   "execution_count": null,
   "id": "ba25a237",
   "metadata": {},
   "outputs": [],
   "source": []
  },
  {
   "cell_type": "markdown",
   "id": "c219bb20",
   "metadata": {},
   "source": [
    "Exercise 11: Write a Program to extract each digit from an integer in the reverse order.\n",
    "For example, If the given int is 7536, the output shall be “6 3 5 7“, with a space separating the digits."
   ]
  },
  {
   "cell_type": "code",
   "execution_count": 33,
   "id": "16ee7b14",
   "metadata": {
    "ExecuteTime": {
     "end_time": "2022-06-03T19:25:44.802060Z",
     "start_time": "2022-06-03T19:25:42.250681Z"
    }
   },
   "outputs": [
    {
     "name": "stdout",
     "output_type": "stream",
     "text": [
      "enter the integer : 5\n",
      "5 "
     ]
    }
   ],
   "source": [
    "x = input('enter the integer : ')\n",
    "# print(x)\n",
    "for i in range(len(x)-1,-1,-1):\n",
    "    print(x[i],end=' ')"
   ]
  },
  {
   "cell_type": "code",
   "execution_count": null,
   "id": "c5e265e0",
   "metadata": {},
   "outputs": [],
   "source": []
  },
  {
   "cell_type": "raw",
   "id": "8f219a91",
   "metadata": {},
   "source": [
    "Exercise 12: Calculate income tax for the given income by adhering to the below rules\n",
    "Taxable Income\tRate (in %)\n",
    "First $10,000\t0\n",
    "Next $10,000\t10\n",
    "The remaining\t20"
   ]
  },
  {
   "cell_type": "code",
   "execution_count": 34,
   "id": "55d4899e",
   "metadata": {
    "ExecuteTime": {
     "end_time": "2022-06-03T19:25:49.392535Z",
     "start_time": "2022-06-03T19:25:44.803025Z"
    }
   },
   "outputs": [
    {
     "name": "stdout",
     "output_type": "stream",
     "text": [
      "Enter the income : 23000\n",
      "Payable tax is :  24600.0\n"
     ]
    }
   ],
   "source": [
    "x = int(input('Enter the income : '))\n",
    "def cal_incometax(x):\n",
    "    tax = 0\n",
    "    if x <= 10000:\n",
    "        tax = x * 0\n",
    "        \n",
    "    elif x <= 20000:\n",
    "        x = x - 10000\n",
    "        tax = x * 0.1\n",
    "    else:\n",
    "        tax = 10000 * 0.1\n",
    "        x = x - 20000\n",
    "        tax += x * 0.2\n",
    "    return tax\n",
    "print('Payable tax is : ',x+cal_incometax(x))"
   ]
  },
  {
   "cell_type": "code",
   "execution_count": null,
   "id": "08b41202",
   "metadata": {},
   "outputs": [],
   "source": []
  },
  {
   "cell_type": "raw",
   "id": "67cc10fd",
   "metadata": {},
   "source": [
    "Exercise 13: Print multiplication table form 1 to 10\n",
    "Expected Output:\n",
    "\n",
    "1  2 3 4 5 6 7 8 9 10 \t\t\n",
    "2  4 6 8 10 12 14 16 18 20 \t\t\n",
    "3  6 9 12 15 18 21 24 27 30 \t\t\n",
    "4  8 12 16 20 24 28 32 36 40 \t\t\n",
    "5  10 15 20 25 30 35 40 45 50 \t\t\n",
    "6  12 18 24 30 36 42 48 54 60 \t\t\n",
    "7  14 21 28 35 42 49 56 63 70 \t\t\n",
    "8  16 24 32 40 48 56 64 72 80 \t\t\n",
    "9  18 27 36 45 54 63 72 81 90 \t\t\n",
    "10 20 30 40 50 60 70 80 90 100 "
   ]
  },
  {
   "cell_type": "code",
   "execution_count": 35,
   "id": "6034dfc6",
   "metadata": {
    "ExecuteTime": {
     "end_time": "2022-06-03T19:25:49.407494Z",
     "start_time": "2022-06-03T19:25:49.394530Z"
    }
   },
   "outputs": [
    {
     "name": "stdout",
     "output_type": "stream",
     "text": [
      "\n",
      "1 2 3 4 5 6 7 8 9 10 \n",
      "2 4 6 8 10 12 14 16 18 20 \n",
      "3 6 9 12 15 18 21 24 27 30 \n",
      "4 8 12 16 20 24 28 32 36 40 \n",
      "5 10 15 20 25 30 35 40 45 50 \n",
      "6 12 18 24 30 36 42 48 54 60 \n",
      "7 14 21 28 35 42 49 56 63 70 \n",
      "8 16 24 32 40 48 56 64 72 80 \n",
      "9 18 27 36 45 54 63 72 81 90 \n",
      "10 20 30 40 50 60 70 80 90 100 "
     ]
    }
   ],
   "source": [
    "for i in range(1,11):\n",
    "    print()\n",
    "    for j in range(1,11):\n",
    "        print(i*j,end = ' ')"
   ]
  },
  {
   "cell_type": "code",
   "execution_count": null,
   "id": "2e403aa7",
   "metadata": {},
   "outputs": [],
   "source": []
  },
  {
   "cell_type": "raw",
   "id": "d0e9c5c4",
   "metadata": {},
   "source": [
    "Exercise 14: Print downward Half-Pyramid Pattern with Star (asterisk)\n",
    "* * * * *  \n",
    "* * * *  \n",
    "* * *  \n",
    "* *  \n",
    "*"
   ]
  },
  {
   "cell_type": "code",
   "execution_count": 36,
   "id": "bb1b1f84",
   "metadata": {
    "ExecuteTime": {
     "end_time": "2022-06-03T19:25:49.423454Z",
     "start_time": "2022-06-03T19:25:49.408492Z"
    }
   },
   "outputs": [
    {
     "name": "stdout",
     "output_type": "stream",
     "text": [
      "\n",
      "* * * * * \n",
      "* * * * \n",
      "* * * \n",
      "* * \n",
      "* \n"
     ]
    }
   ],
   "source": [
    "for i in range(5,-1,-1):\n",
    "    print()\n",
    "    for j in range(i):\n",
    "        print('*',end=' ')"
   ]
  },
  {
   "cell_type": "code",
   "execution_count": null,
   "id": "0ea04683",
   "metadata": {},
   "outputs": [],
   "source": []
  },
  {
   "cell_type": "markdown",
   "id": "d8f68007",
   "metadata": {},
   "source": [
    "Exercise 15: Write a function called exponent(base, exp) that returns an int value of base raises to the power of exp.\n",
    "Note here exp is a non-negative integer, and the base is an integer."
   ]
  },
  {
   "cell_type": "code",
   "execution_count": 37,
   "id": "fa9afa48",
   "metadata": {
    "ExecuteTime": {
     "end_time": "2022-06-03T19:25:53.116265Z",
     "start_time": "2022-06-03T19:25:49.424449Z"
    }
   },
   "outputs": [
    {
     "name": "stdout",
     "output_type": "stream",
     "text": [
      "enter the base and exp : 5 2\n",
      "5  raises to the power of  2 :  25\n"
     ]
    }
   ],
   "source": [
    "def exponent(base, exp):\n",
    "    base = int(base)\n",
    "    exp = abs(int(exp))\n",
    "    return base**exp\n",
    "b,e = input('enter the base and exp : ').split()\n",
    "print(b,' raises to the power of ',e,': ',exponent(b,e))"
   ]
  },
  {
   "cell_type": "code",
   "execution_count": null,
   "id": "4b054da0",
   "metadata": {},
   "outputs": [],
   "source": []
  },
  {
   "cell_type": "code",
   "execution_count": null,
   "id": "56cfcaa2",
   "metadata": {},
   "outputs": [],
   "source": []
  },
  {
   "cell_type": "markdown",
   "id": "bdc04b27",
   "metadata": {},
   "source": [
    "## Python Input and Output Exercise"
   ]
  },
  {
   "cell_type": "markdown",
   "id": "bda563a7",
   "metadata": {},
   "source": [
    "Exercise 1: Accept numbers from a user\n",
    "Write a program to accept two numbers from the user and calculate multiplication"
   ]
  },
  {
   "cell_type": "code",
   "execution_count": 38,
   "id": "9ce25b96",
   "metadata": {
    "ExecuteTime": {
     "end_time": "2022-06-03T19:26:00.774429Z",
     "start_time": "2022-06-03T19:25:53.116560Z"
    }
   },
   "outputs": [
    {
     "name": "stdout",
     "output_type": "stream",
     "text": [
      "Enter a number : 23\n",
      "Enter a number : 98\n",
      "Multiplication is :  2254\n"
     ]
    }
   ],
   "source": [
    "num1 = int(input('Enter a number : '))\n",
    "num2 = int(input('Enter a number : '))\n",
    "print('Multiplication is : ',num1*num2)"
   ]
  },
  {
   "cell_type": "code",
   "execution_count": null,
   "id": "31259421",
   "metadata": {},
   "outputs": [],
   "source": []
  },
  {
   "cell_type": "raw",
   "id": "bada1e74",
   "metadata": {},
   "source": [
    "Exercise 2: Display three string “Name”, “Is”, “James” as “Name**Is**James”\n",
    "Use the print() function to format the given words in the mentioned format. Display the ** separator between each string."
   ]
  },
  {
   "cell_type": "code",
   "execution_count": 39,
   "id": "949465ef",
   "metadata": {
    "ExecuteTime": {
     "end_time": "2022-06-03T19:26:00.790361Z",
     "start_time": "2022-06-03T19:26:00.775409Z"
    }
   },
   "outputs": [
    {
     "name": "stdout",
     "output_type": "stream",
     "text": [
      "Name**Is**James\n"
     ]
    }
   ],
   "source": [
    "print('Name','Is','James',sep='**')"
   ]
  },
  {
   "cell_type": "code",
   "execution_count": null,
   "id": "32d69900",
   "metadata": {},
   "outputs": [],
   "source": []
  },
  {
   "cell_type": "markdown",
   "id": "b3f6da1f",
   "metadata": {},
   "source": [
    "Exercise 3: Convert Decimal number to octal using print() output formatting"
   ]
  },
  {
   "cell_type": "code",
   "execution_count": 40,
   "id": "0be6430d",
   "metadata": {
    "ExecuteTime": {
     "end_time": "2022-06-03T19:26:00.806318Z",
     "start_time": "2022-06-03T19:26:00.792355Z"
    }
   },
   "outputs": [
    {
     "name": "stdout",
     "output_type": "stream",
     "text": [
      "10\n"
     ]
    }
   ],
   "source": [
    "num = 8\n",
    "print('%o' % num)"
   ]
  },
  {
   "cell_type": "code",
   "execution_count": null,
   "id": "0e755fb5",
   "metadata": {},
   "outputs": [],
   "source": []
  },
  {
   "cell_type": "markdown",
   "id": "f095a633",
   "metadata": {},
   "source": [
    "Exercise 4: Display float number with 2 decimal places using print()"
   ]
  },
  {
   "cell_type": "code",
   "execution_count": 41,
   "id": "350fe547",
   "metadata": {
    "ExecuteTime": {
     "end_time": "2022-06-03T19:26:00.822276Z",
     "start_time": "2022-06-03T19:26:00.807315Z"
    },
    "scrolled": true
   },
   "outputs": [
    {
     "name": "stdout",
     "output_type": "stream",
     "text": [
      "458.54\n"
     ]
    }
   ],
   "source": [
    "num = 458.541315\n",
    "print(round(num,2))"
   ]
  },
  {
   "cell_type": "code",
   "execution_count": null,
   "id": "744b1879",
   "metadata": {},
   "outputs": [],
   "source": []
  },
  {
   "cell_type": "markdown",
   "id": "4b4b3fd6",
   "metadata": {},
   "source": [
    "Exercise 5: Accept a list of 5 float numbers as an input from the user"
   ]
  },
  {
   "cell_type": "code",
   "execution_count": 42,
   "id": "b6654b53",
   "metadata": {
    "ExecuteTime": {
     "end_time": "2022-06-03T19:26:13.832631Z",
     "start_time": "2022-06-03T19:26:00.823273Z"
    }
   },
   "outputs": [
    {
     "name": "stdout",
     "output_type": "stream",
     "text": [
      "Enter number at location 0 :\n",
      "3.1\n",
      "Enter number at location 1 :\n",
      "0.5\n",
      "Enter number at location 2 :\n",
      "0.8\n",
      "Enter number at location 3 :\n",
      "9.3\n",
      "Enter number at location 4 :\n",
      ".56\n",
      "User List: [3.1, 0.5, 0.8, 9.3, 0.56]\n"
     ]
    }
   ],
   "source": [
    "num = []\n",
    "\n",
    "for i in range(0, 5):\n",
    "    print(\"Enter number at location\", i, \":\")\n",
    "    item = float(input())\n",
    "    num.append(item)\n",
    "\n",
    "print(\"User List:\", num)"
   ]
  },
  {
   "cell_type": "code",
   "execution_count": null,
   "id": "0e175058",
   "metadata": {},
   "outputs": [],
   "source": []
  },
  {
   "cell_type": "markdown",
   "id": "1b1313c0",
   "metadata": {},
   "source": [
    "Exercise 6: Write all content of a given file into a new file by skipping line number 5"
   ]
  },
  {
   "cell_type": "code",
   "execution_count": 43,
   "id": "a0757e8f",
   "metadata": {
    "ExecuteTime": {
     "end_time": "2022-06-03T19:26:13.848556Z",
     "start_time": "2022-06-03T19:26:13.834599Z"
    }
   },
   "outputs": [],
   "source": [
    "with open(\"I-O exer-6 txt.txt\", \"r\") as fp:\n",
    "    lines = fp.readlines()\n",
    "\n",
    "with open(\"I-O exer-6 new_file.txt\", \"w\") as fp:\n",
    "    count = 0\n",
    "    for line in lines:\n",
    "        if count == 4:\n",
    "            count += 1\n",
    "            continue\n",
    "        else:\n",
    "            fp.write(line)\n",
    "        count += 1"
   ]
  },
  {
   "cell_type": "code",
   "execution_count": null,
   "id": "4bc83755",
   "metadata": {},
   "outputs": [],
   "source": []
  },
  {
   "cell_type": "markdown",
   "id": "95c43bb5",
   "metadata": {},
   "source": [
    "Exercise 7: Accept any three string from one input() call\n",
    "Write a program to take three names as input from a user in the single input() function call."
   ]
  },
  {
   "cell_type": "code",
   "execution_count": 44,
   "id": "12d5e54a",
   "metadata": {
    "ExecuteTime": {
     "end_time": "2022-06-03T19:26:22.286065Z",
     "start_time": "2022-06-03T19:26:13.849552Z"
    }
   },
   "outputs": [
    {
     "name": "stdout",
     "output_type": "stream",
     "text": [
      "Enter three names : trwe yterw hrge\n",
      "trwe\n",
      "yterw\n",
      "hrge\n"
     ]
    }
   ],
   "source": [
    "try:\n",
    "    name1, name2, name3 = input('Enter three names : ').split()\n",
    "except:\n",
    "    print('Enter 3 strings with spaced between')\n",
    "print(name1,name2,name3,sep='\\n')"
   ]
  },
  {
   "cell_type": "code",
   "execution_count": null,
   "id": "b2c3d2ac",
   "metadata": {},
   "outputs": [],
   "source": []
  },
  {
   "cell_type": "raw",
   "id": "18a8f014",
   "metadata": {},
   "source": [
    "Exercise 8: Format variables using a string.format() method.\n",
    "Write a program to use string.format() method to format the following three variables as per the expected output.\n",
    "\n",
    "Given:\n",
    "\n",
    "totalMoney = 1000\n",
    "quantity = 3\n",
    "price = 450\n",
    "Expected Output:\n",
    "\n",
    "I have 1000 dollars so I can buy 3 football for 450.00 dollars."
   ]
  },
  {
   "cell_type": "code",
   "execution_count": 45,
   "id": "11f8bf63",
   "metadata": {
    "ExecuteTime": {
     "end_time": "2022-06-03T19:26:22.305078Z",
     "start_time": "2022-06-03T19:26:22.288060Z"
    }
   },
   "outputs": [
    {
     "name": "stdout",
     "output_type": "stream",
     "text": [
      "I have 1000 dollars so I can buy 3 football for 450.00 dollars.\n"
     ]
    }
   ],
   "source": [
    "totalMoney = 1000\n",
    "quantity = 3\n",
    "price = 450\n",
    "print('I have {0} dollars so I can buy {1} football for {2:.2f} dollars.'.format(totalMoney,quantity,(float(price))))"
   ]
  },
  {
   "cell_type": "code",
   "execution_count": null,
   "id": "bfb1cfb7",
   "metadata": {},
   "outputs": [],
   "source": []
  },
  {
   "cell_type": "markdown",
   "id": "8837e4fa",
   "metadata": {},
   "source": [
    "Exercise 9: Check file is empty or not\n",
    "Write a program to check if the given file is empty or not"
   ]
  },
  {
   "cell_type": "code",
   "execution_count": 46,
   "id": "5090012d",
   "metadata": {
    "ExecuteTime": {
     "end_time": "2022-06-03T19:26:22.321011Z",
     "start_time": "2022-06-03T19:26:22.306050Z"
    }
   },
   "outputs": [
    {
     "name": "stdout",
     "output_type": "stream",
     "text": [
      "not empty\n"
     ]
    }
   ],
   "source": [
    "import os\n",
    "size = os.stat(\"I-O exer-6 txt.txt\").st_size\n",
    "if size == 0:\n",
    "    print(\"file is empty\")\n",
    "else :\n",
    "    print(\"not empty\")"
   ]
  },
  {
   "cell_type": "code",
   "execution_count": null,
   "id": "d4e8bdf1",
   "metadata": {},
   "outputs": [],
   "source": []
  },
  {
   "cell_type": "markdown",
   "id": "2de181e6",
   "metadata": {},
   "source": [
    "Exercise 10: Read line number 4 from the following file"
   ]
  },
  {
   "cell_type": "code",
   "execution_count": 47,
   "id": "bd8b2285",
   "metadata": {
    "ExecuteTime": {
     "end_time": "2022-06-03T19:26:22.337030Z",
     "start_time": "2022-06-03T19:26:22.322008Z"
    }
   },
   "outputs": [
    {
     "name": "stdout",
     "output_type": "stream",
     "text": [
      "line4\n",
      "\n"
     ]
    }
   ],
   "source": [
    "with open(\"I-O exer-6 txt.txt\",\"r\") as fp:\n",
    "    lines = fp.readlines()\n",
    "    print(lines[3])"
   ]
  },
  {
   "cell_type": "code",
   "execution_count": null,
   "id": "14138d72",
   "metadata": {},
   "outputs": [],
   "source": []
  },
  {
   "cell_type": "markdown",
   "id": "ec00417d",
   "metadata": {},
   "source": [
    "## Python Loop Exercise"
   ]
  },
  {
   "cell_type": "markdown",
   "id": "cbb284a8",
   "metadata": {},
   "source": [
    "Exercise 1: Print First 10 natural numbers using while loop"
   ]
  },
  {
   "cell_type": "code",
   "execution_count": 48,
   "id": "e219e184",
   "metadata": {
    "ExecuteTime": {
     "end_time": "2022-06-03T19:26:22.352988Z",
     "start_time": "2022-06-03T19:26:22.337996Z"
    }
   },
   "outputs": [
    {
     "name": "stdout",
     "output_type": "stream",
     "text": [
      "1\n",
      "2\n",
      "3\n",
      "4\n",
      "5\n",
      "6\n",
      "7\n",
      "8\n",
      "9\n",
      "10\n"
     ]
    }
   ],
   "source": [
    "i = 1\n",
    "while i < 11:\n",
    "    print(i)\n",
    "    i += 1"
   ]
  },
  {
   "cell_type": "code",
   "execution_count": null,
   "id": "1aebc7db",
   "metadata": {},
   "outputs": [],
   "source": []
  },
  {
   "cell_type": "raw",
   "id": "75cdc6cb",
   "metadata": {},
   "source": [
    "Exercise 2: Print the following pattern\n",
    "Write a program to print the following number pattern using a loop.\n",
    "\n",
    "1 \n",
    "1 2 \n",
    "1 2 3 \n",
    "1 2 3 4 \n",
    "1 2 3 4 5"
   ]
  },
  {
   "cell_type": "code",
   "execution_count": 49,
   "id": "a93b1022",
   "metadata": {
    "ExecuteTime": {
     "end_time": "2022-06-03T19:26:22.367939Z",
     "start_time": "2022-06-03T19:26:22.353952Z"
    }
   },
   "outputs": [
    {
     "name": "stdout",
     "output_type": "stream",
     "text": [
      "\n",
      "1  \n",
      "1  2  \n",
      "1  2  3  \n",
      "1  2  3  4  \n",
      "1  2  3  4  5  "
     ]
    }
   ],
   "source": [
    "for i in range(1,6):\n",
    "    print()\n",
    "    for j in range(1,i+1):\n",
    "        print(j,' ',end='')"
   ]
  },
  {
   "cell_type": "code",
   "execution_count": null,
   "id": "1d2a6d70",
   "metadata": {},
   "outputs": [],
   "source": []
  },
  {
   "cell_type": "raw",
   "id": "b820b163",
   "metadata": {},
   "source": [
    "Exercise 3: Calculate the sum of all numbers from 1 to a given number\n",
    "Write a program to accept a number from a user and calculate the sum of all numbers from 1 to a given number\n",
    "\n",
    "For example, if the user entered 10 the output should be 55 (1+2+3+4+5+6+7+8+9+10)\n",
    "\n",
    "Expected Output:\n",
    "\n",
    "Enter number 10\n",
    "Sum is:  55"
   ]
  },
  {
   "cell_type": "code",
   "execution_count": 50,
   "id": "a56584fc",
   "metadata": {
    "ExecuteTime": {
     "end_time": "2022-06-03T19:26:24.617804Z",
     "start_time": "2022-06-03T19:26:22.372902Z"
    }
   },
   "outputs": [
    {
     "name": "stdout",
     "output_type": "stream",
     "text": [
      "Enter the number :534\n",
      "Sum is :  142845\n"
     ]
    }
   ],
   "source": [
    "n = int(input(\"Enter the number :\"))\n",
    "sum = 0\n",
    "for i in range(1,n+1):\n",
    "    sum += i\n",
    "print('Sum is : ',sum)"
   ]
  },
  {
   "cell_type": "code",
   "execution_count": null,
   "id": "c228997f",
   "metadata": {},
   "outputs": [],
   "source": []
  },
  {
   "cell_type": "raw",
   "id": "f39df1a4",
   "metadata": {},
   "source": [
    "Exercise 4: Write a program to print multiplication table of a given number\n",
    "For example, num = 2 so the output should be\n",
    "\n",
    "2\n",
    "4\n",
    "6\n",
    "8\n",
    "10\n",
    "12\n",
    "14\n",
    "16\n",
    "18\n",
    "20"
   ]
  },
  {
   "cell_type": "code",
   "execution_count": 51,
   "id": "693d280a",
   "metadata": {
    "ExecuteTime": {
     "end_time": "2022-06-03T19:26:26.094915Z",
     "start_time": "2022-06-03T19:26:24.619770Z"
    }
   },
   "outputs": [
    {
     "name": "stdout",
     "output_type": "stream",
     "text": [
      "Enter the number : 243\n",
      "243\n",
      "486\n",
      "729\n",
      "972\n",
      "1215\n",
      "1458\n",
      "1701\n",
      "1944\n",
      "2187\n",
      "2430\n"
     ]
    }
   ],
   "source": [
    "n = int(input(\"Enter the number : \"))\n",
    "for i in range(1,11):\n",
    "    print(i*n)"
   ]
  },
  {
   "cell_type": "code",
   "execution_count": null,
   "id": "58a7a60e",
   "metadata": {},
   "outputs": [],
   "source": []
  },
  {
   "cell_type": "raw",
   "id": "da455160",
   "metadata": {},
   "source": [
    "Exercise 5: Display numbers from a list using loop\n",
    "Write a program to display only those numbers from a list that satisfy the following conditions\n",
    "\n",
    "The number must be divisible by five\n",
    "If the number is greater than 150, then skip it and move to the next number\n",
    "If the number is greater than 500, then stop the loop\n",
    "Given:\n",
    "\n",
    "numbers = [12, 75, 150, 180, 145, 525, 50]\n",
    "Expected output:\n",
    "\n",
    "75\n",
    "150\n",
    "145"
   ]
  },
  {
   "cell_type": "code",
   "execution_count": 52,
   "id": "e8889518",
   "metadata": {
    "ExecuteTime": {
     "end_time": "2022-06-03T19:26:26.109876Z",
     "start_time": "2022-06-03T19:26:26.096878Z"
    }
   },
   "outputs": [
    {
     "name": "stdout",
     "output_type": "stream",
     "text": [
      "75\n",
      "150\n",
      "145\n"
     ]
    }
   ],
   "source": [
    "num = [12, 75, 150, 180, 145, 525, 50]\n",
    "\n",
    "for i in num:\n",
    "    if i > 500 :\n",
    "        break\n",
    "    elif i > 150 :\n",
    "        continue\n",
    "    elif i % 5 == 0 :\n",
    "        print(i)"
   ]
  },
  {
   "cell_type": "code",
   "execution_count": null,
   "id": "8d725373",
   "metadata": {},
   "outputs": [],
   "source": []
  },
  {
   "cell_type": "raw",
   "id": "908f985a",
   "metadata": {},
   "source": [
    "Exercise 7: Print the following pattern\n",
    "Write a program to use for loop to print the following reverse number pattern\n",
    "\n",
    "5 4 3 2 1 \n",
    "4 3 2 1 \n",
    "3 2 1 \n",
    "2 1 \n",
    "1"
   ]
  },
  {
   "cell_type": "code",
   "execution_count": 53,
   "id": "744861bd",
   "metadata": {
    "ExecuteTime": {
     "end_time": "2022-06-03T19:26:26.125829Z",
     "start_time": "2022-06-03T19:26:26.111837Z"
    }
   },
   "outputs": [
    {
     "name": "stdout",
     "output_type": "stream",
     "text": [
      "\n",
      "5   4   3   2   1   \n",
      "4   3   2   1   \n",
      "3   2   1   \n",
      "2   1   \n",
      "1   "
     ]
    }
   ],
   "source": [
    "for i in range(5,0,-1):\n",
    "    print()\n",
    "    for j in range(i,0,-1):\n",
    "        print(j,' ',end=' ')"
   ]
  },
  {
   "cell_type": "code",
   "execution_count": null,
   "id": "fc2f043a",
   "metadata": {},
   "outputs": [],
   "source": []
  },
  {
   "cell_type": "raw",
   "id": "a2885bad",
   "metadata": {},
   "source": [
    "Exercise 8: Print list in reverse order using a loop\n",
    "Given:\n",
    "\n",
    "list1 = [10, 20, 30, 40, 50]\n",
    "Expected output:\n",
    "\n",
    "50\n",
    "40\n",
    "30\n",
    "20\n",
    "10"
   ]
  },
  {
   "cell_type": "code",
   "execution_count": 54,
   "id": "7d418f3d",
   "metadata": {
    "ExecuteTime": {
     "end_time": "2022-06-03T19:26:26.141779Z",
     "start_time": "2022-06-03T19:26:26.126828Z"
    }
   },
   "outputs": [
    {
     "name": "stdout",
     "output_type": "stream",
     "text": [
      "50\n",
      "40\n",
      "30\n",
      "20\n",
      "10\n"
     ]
    }
   ],
   "source": [
    "list1 = [10, 20, 30, 40, 50]\n",
    "for i in range(len(list1)-1,-1,-1):\n",
    "    print(list1[i])"
   ]
  },
  {
   "cell_type": "code",
   "execution_count": null,
   "id": "5c4619b5",
   "metadata": {},
   "outputs": [],
   "source": []
  },
  {
   "cell_type": "raw",
   "id": "a21eea0c",
   "metadata": {},
   "source": [
    "Exercise 9: Display numbers from -10 to -1 using for loop\n",
    "Expected output:\n",
    "\n",
    "-10\n",
    "-9\n",
    "-8\n",
    "-7\n",
    "-6\n",
    "-5\n",
    "-4\n",
    "-3\n",
    "-2\n",
    "-1"
   ]
  },
  {
   "cell_type": "code",
   "execution_count": 55,
   "id": "c34a8138",
   "metadata": {
    "ExecuteTime": {
     "end_time": "2022-06-03T19:26:26.157745Z",
     "start_time": "2022-06-03T19:26:26.142752Z"
    }
   },
   "outputs": [
    {
     "name": "stdout",
     "output_type": "stream",
     "text": [
      "-10\n",
      "-9\n",
      "-8\n",
      "-7\n",
      "-6\n",
      "-5\n",
      "-4\n",
      "-3\n",
      "-2\n",
      "-1\n"
     ]
    }
   ],
   "source": [
    "for i in range(-10,0,1):\n",
    "    print(i)"
   ]
  },
  {
   "cell_type": "code",
   "execution_count": null,
   "id": "b421a269",
   "metadata": {},
   "outputs": [],
   "source": []
  },
  {
   "cell_type": "raw",
   "id": "e957e552",
   "metadata": {},
   "source": [
    "Exercise 10: Use else block to display a message “Done” after successful execution of for loop\n",
    "For example, the following loop will execute without any error.\n",
    "\n",
    "Given:\n",
    "\n",
    "for i in range(5):\n",
    "    print(i)\n",
    "Expected output:\n",
    "\n",
    "0\n",
    "1\n",
    "2\n",
    "3\n",
    "4\n",
    "Done!"
   ]
  },
  {
   "cell_type": "code",
   "execution_count": 56,
   "id": "0eee084e",
   "metadata": {
    "ExecuteTime": {
     "end_time": "2022-06-03T19:26:26.173702Z",
     "start_time": "2022-06-03T19:26:26.158710Z"
    }
   },
   "outputs": [
    {
     "name": "stdout",
     "output_type": "stream",
     "text": [
      "0\n",
      "1\n",
      "2\n",
      "3\n",
      "4\n",
      "Done!\n"
     ]
    }
   ],
   "source": [
    "for i in range(5):\n",
    "    print(i)\n",
    "else:\n",
    "    print(\"Done!\")"
   ]
  },
  {
   "cell_type": "code",
   "execution_count": null,
   "id": "943ecf5c",
   "metadata": {},
   "outputs": [],
   "source": []
  },
  {
   "cell_type": "raw",
   "id": "669c43dd",
   "metadata": {},
   "source": [
    "Exercise 11: Write a program to display all prime numbers within a range\n",
    "Note: A Prime Number is a number that cannot be made by multiplying other whole numbers. A prime number is a natural number greater than 1 that is not a product of two smaller natural numbers\n",
    "\n",
    "Examples:\n",
    "\n",
    "6 is not a prime mumber because it can be made by 2×3 = 6\n",
    "37 is a prime number because no other whole numbers multiply together to make it.\n",
    "Given:\n",
    "\n",
    "# range\n",
    "start = 25\n",
    "end = 50\n",
    "Expected output:\n",
    "\n",
    "Prime numbers between 25 and 50 are:\n",
    "29\n",
    "31\n",
    "37\n",
    "41\n",
    "43\n",
    "47\n"
   ]
  },
  {
   "cell_type": "code",
   "execution_count": 57,
   "id": "def7fbc5",
   "metadata": {
    "ExecuteTime": {
     "end_time": "2022-06-03T19:26:26.189659Z",
     "start_time": "2022-06-03T19:26:26.174699Z"
    }
   },
   "outputs": [
    {
     "name": "stdout",
     "output_type": "stream",
     "text": [
      "Prime numbers between  25 and 50 are:\n",
      "29\n",
      "31\n",
      "37\n",
      "41\n",
      "43\n",
      "47\n"
     ]
    }
   ],
   "source": [
    "start = 25\n",
    "end = 50\n",
    "print(\"Prime numbers between \", start, \"and\", end, \"are:\")\n",
    "\n",
    "for num in range(start, end + 1):\n",
    "    if num > 1:\n",
    "        for i in range(2, num):\n",
    "            if (num % i) == 0:\n",
    "                break\n",
    "        else:\n",
    "            print(num)"
   ]
  },
  {
   "cell_type": "code",
   "execution_count": null,
   "id": "da14a6be",
   "metadata": {},
   "outputs": [],
   "source": []
  },
  {
   "cell_type": "markdown",
   "id": "0066722e",
   "metadata": {
    "ExecuteTime": {
     "end_time": "2022-04-05T22:26:09.835789Z",
     "start_time": "2022-04-05T22:26:09.826779Z"
    }
   },
   "source": [
    "Exercise 12: Display Fibonacci series up to 10 terms\n",
    "The Fibonacci Sequence is a series of numbers. The next number is found by adding up the two numbers before it. The first two numbers are 0 and 1.\n",
    "\n",
    "For example, 0, 1, 1, 2, 3, 5, 8, 13, 21. The next number in this series above is 13+21 = 34.\n",
    "\n",
    "Expected output:\n",
    "\n",
    "Fibonacci sequence:\n",
    "0  1  1  2  3  5  8  13  21  34"
   ]
  },
  {
   "cell_type": "code",
   "execution_count": 58,
   "id": "c2903859",
   "metadata": {
    "ExecuteTime": {
     "end_time": "2022-06-03T19:26:26.205586Z",
     "start_time": "2022-06-03T19:26:26.190625Z"
    }
   },
   "outputs": [
    {
     "name": "stdout",
     "output_type": "stream",
     "text": [
      "Fibonacci sequence:\n",
      "0  1  1  2  3  5  8  13  21  34  "
     ]
    }
   ],
   "source": [
    "num1, num2 = 0, 1\n",
    "print(\"Fibonacci sequence:\")\n",
    "\n",
    "for i in range(10):\n",
    "    print(num1, end=\"  \")\n",
    "    res = num1 + num2\n",
    "    num1 = num2\n",
    "    num2 = res"
   ]
  },
  {
   "cell_type": "code",
   "execution_count": null,
   "id": "1c29859a",
   "metadata": {},
   "outputs": [],
   "source": []
  },
  {
   "cell_type": "markdown",
   "id": "09d255b5",
   "metadata": {
    "ExecuteTime": {
     "end_time": "2022-06-03T19:26:26.220578Z",
     "start_time": "2022-06-03T19:26:26.206614Z"
    }
   },
   "source": [
    "## Python Functions Exercise"
   ]
  },
  {
   "cell_type": "raw",
   "id": "0c8b37d7",
   "metadata": {},
   "source": [
    "Exercise 1: Create a function in Python\n",
    "Write a program to create a function that takes two arguments, name and age, and print their value."
   ]
  },
  {
   "cell_type": "code",
   "execution_count": 78,
   "id": "ed1be8be",
   "metadata": {
    "ExecuteTime": {
     "end_time": "2022-06-03T20:30:27.011071Z",
     "start_time": "2022-06-03T20:30:27.006109Z"
    }
   },
   "outputs": [
    {
     "name": "stdout",
     "output_type": "stream",
     "text": [
      "name is :  qwerty \n",
      "age  is :  15\n"
     ]
    }
   ],
   "source": [
    "def name_and_age(name = 'Ron', age = 12):\n",
    "    print(\"name is : \", name, \"\\nage  is : \", age)\n",
    "name_and_age('qwerty', 15)"
   ]
  },
  {
   "cell_type": "code",
   "execution_count": null,
   "id": "fcb160bf",
   "metadata": {
    "ExecuteTime": {
     "end_time": "2022-06-03T20:30:03.197108Z",
     "start_time": "2022-06-03T20:30:03.186138Z"
    }
   },
   "outputs": [],
   "source": []
  },
  {
   "cell_type": "raw",
   "id": "34986701",
   "metadata": {},
   "source": [
    "Exercise 2: Create a function with variable length of arguments\n",
    "Write a program to create function func1() to accept a variable length of arguments and print their value."
   ]
  },
  {
   "cell_type": "code",
   "execution_count": 83,
   "id": "d5c3eeaf",
   "metadata": {
    "ExecuteTime": {
     "end_time": "2022-06-03T20:33:32.494829Z",
     "start_time": "2022-06-03T20:33:32.487848Z"
    }
   },
   "outputs": [
    {
     "name": "stdout",
     "output_type": "stream",
     "text": [
      "54\n",
      "54\n",
      "hgefd\n"
     ]
    }
   ],
   "source": [
    "def func1(*args):\n",
    "    for i in args:\n",
    "        print(i)\n",
    "func1(54, 54, 'hgefd')"
   ]
  },
  {
   "cell_type": "code",
   "execution_count": null,
   "id": "5699bc91",
   "metadata": {},
   "outputs": [],
   "source": []
  },
  {
   "cell_type": "raw",
   "id": "c1291abd",
   "metadata": {},
   "source": [
    "Exercise 3: Return multiple values from a function\n",
    "Write a program to create function calculation() such that it can accept two variables and calculate addition and subtraction. Also, it must return both addition and subtraction in a single return call."
   ]
  },
  {
   "cell_type": "code",
   "execution_count": 88,
   "id": "b6325da9",
   "metadata": {
    "ExecuteTime": {
     "end_time": "2022-06-03T20:36:09.722942Z",
     "start_time": "2022-06-03T20:36:09.716927Z"
    }
   },
   "outputs": [
    {
     "name": "stdout",
     "output_type": "stream",
     "text": [
      "37 -13\n"
     ]
    }
   ],
   "source": [
    "def calculation(var1, var2):\n",
    "    return var1+var2, var1-var2\n",
    "add, sub = calculation(12,25)\n",
    "print(add,sub)"
   ]
  },
  {
   "cell_type": "code",
   "execution_count": null,
   "id": "9c820f77",
   "metadata": {},
   "outputs": [],
   "source": []
  },
  {
   "cell_type": "raw",
   "id": "5dd3351e",
   "metadata": {},
   "source": [
    "Exercise 4: Create a function with default argument\n",
    "Write a program to create a function show_employee() using the following conditions.\n",
    "\n",
    "It should accept the employee’s name and salary and display both.\n",
    "If the salary is missing in the function call then assign default value 9000 to salary"
   ]
  },
  {
   "cell_type": "code",
   "execution_count": 94,
   "id": "1e629023",
   "metadata": {
    "ExecuteTime": {
     "end_time": "2022-06-03T20:39:59.378914Z",
     "start_time": "2022-06-03T20:39:59.361960Z"
    }
   },
   "outputs": [
    {
     "name": "stdout",
     "output_type": "stream",
     "text": [
      "\n",
      "Name:  rhodes \n",
      "Salary:  9000\n",
      "\n",
      "Name:  James \n",
      "Salary:  250000\n"
     ]
    }
   ],
   "source": [
    "def show_employee(name,salary = 9000):\n",
    "    print(\"\\nName: \",name, \"\\nSalary: \",salary)\n",
    "    \n",
    "show_employee('rhodes')\n",
    "show_employee('James', 250000)"
   ]
  },
  {
   "cell_type": "code",
   "execution_count": null,
   "id": "d637a6c0",
   "metadata": {},
   "outputs": [],
   "source": []
  },
  {
   "cell_type": "raw",
   "id": "152ce080",
   "metadata": {},
   "source": [
    "Exercise 5: Create an inner function to calculate the addition in the following way\n",
    "Create an outer function that will accept two parameters, a and b\n",
    "Create an inner function inside an outer function that will calculate the addition of a and b\n",
    "At last, an outer function will add 5 into addition and return it"
   ]
  },
  {
   "cell_type": "code",
   "execution_count": 99,
   "id": "f9d85cb4",
   "metadata": {
    "ExecuteTime": {
     "end_time": "2022-06-03T20:44:17.857830Z",
     "start_time": "2022-06-03T20:44:17.840843Z"
    }
   },
   "outputs": [
    {
     "data": {
      "text/plain": [
       "17"
      ]
     },
     "execution_count": 99,
     "metadata": {},
     "output_type": "execute_result"
    }
   ],
   "source": [
    "def outer_fn(a,b):\n",
    "    \n",
    "    def inner_fn(a,b):\n",
    "        return a+b\n",
    "    \n",
    "    return 5 + inner_fn(a,b)\n",
    "\n",
    "outer_fn(5,7)"
   ]
  },
  {
   "cell_type": "code",
   "execution_count": null,
   "id": "e62541fb",
   "metadata": {},
   "outputs": [],
   "source": []
  },
  {
   "cell_type": "raw",
   "id": "d60d5918",
   "metadata": {},
   "source": [
    "Exercise 6: Create a recursive function\n",
    "Write a program to create a recursive function to calculate the sum of numbers from 0 to 10.\n",
    "\n",
    "A recursive function is a function that calls itself, again and again."
   ]
  },
  {
   "cell_type": "code",
   "execution_count": 100,
   "id": "cc4d369d",
   "metadata": {
    "ExecuteTime": {
     "end_time": "2022-06-03T20:47:02.164624Z",
     "start_time": "2022-06-03T20:47:02.158656Z"
    }
   },
   "outputs": [
    {
     "data": {
      "text/plain": [
       "55"
      ]
     },
     "execution_count": 100,
     "metadata": {},
     "output_type": "execute_result"
    }
   ],
   "source": [
    "def rec_add(n):\n",
    "    if n:\n",
    "        return n + rec_add(n - 1)\n",
    "    else:\n",
    "        return 0\n",
    "rec_add(10)"
   ]
  },
  {
   "cell_type": "code",
   "execution_count": null,
   "id": "ec903944",
   "metadata": {},
   "outputs": [],
   "source": []
  },
  {
   "cell_type": "raw",
   "id": "a0c3b802",
   "metadata": {},
   "source": [
    "Exercise 7: Assign a different name to function and call it through the new name\n",
    "Below is the function display_student(name, age). Assign a new name show_tudent(name, age) to it and call it using the new name.\n",
    "\n",
    "Given:\n",
    "\n",
    "def display_student(name, age):\n",
    "    print(name, age)\n",
    "\n",
    "display_student(\"Emma\", 26)\n",
    "You should be able to call the same function using\n",
    "\n",
    "show_student(name, age)"
   ]
  },
  {
   "cell_type": "code",
   "execution_count": 104,
   "id": "4605ec3d",
   "metadata": {
    "ExecuteTime": {
     "end_time": "2022-06-03T20:50:25.072605Z",
     "start_time": "2022-06-03T20:50:25.054654Z"
    }
   },
   "outputs": [
    {
     "name": "stdout",
     "output_type": "stream",
     "text": [
      "Emma 26\n",
      "Emma 26\n"
     ]
    }
   ],
   "source": [
    "def display_student(name, age):\n",
    "    print(name, age)\n",
    "\n",
    "display_student(\"Emma\", 26)\n",
    "\n",
    "show_student = display_student\n",
    "\n",
    "show_student(\"Emma\", 26)"
   ]
  },
  {
   "cell_type": "code",
   "execution_count": null,
   "id": "c3b78582",
   "metadata": {},
   "outputs": [],
   "source": []
  },
  {
   "cell_type": "raw",
   "id": "e78876a8",
   "metadata": {},
   "source": [
    "Exercise 8: Generate a Python list of all the even numbers between 4 to 30"
   ]
  },
  {
   "cell_type": "code",
   "execution_count": 105,
   "id": "e10392b9",
   "metadata": {
    "ExecuteTime": {
     "end_time": "2022-06-03T20:51:50.715512Z",
     "start_time": "2022-06-03T20:51:50.699521Z"
    }
   },
   "outputs": [
    {
     "name": "stdout",
     "output_type": "stream",
     "text": [
      "[4, 6, 8, 10, 12, 14, 16, 18, 20, 22, 24, 26, 28]\n"
     ]
    }
   ],
   "source": [
    "print(list(range(4,30,2)))"
   ]
  },
  {
   "cell_type": "code",
   "execution_count": null,
   "id": "2071796b",
   "metadata": {},
   "outputs": [],
   "source": []
  },
  {
   "cell_type": "raw",
   "id": "618396b1",
   "metadata": {},
   "source": [
    "Exercise 9: Find the largest item from a given list"
   ]
  },
  {
   "cell_type": "code",
   "execution_count": 2,
   "id": "766e81b2",
   "metadata": {
    "ExecuteTime": {
     "end_time": "2022-06-03T20:52:41.224245Z",
     "start_time": "2022-06-03T20:52:41.219258Z"
    }
   },
   "outputs": [
    {
     "name": "stdout",
     "output_type": "stream",
     "text": [
      "24\n"
     ]
    }
   ],
   "source": [
    "x = [4, 6, 8, 24, 12, 2]\n",
    "print(max(x))"
   ]
  },
  {
   "cell_type": "code",
   "execution_count": null,
   "id": "7a75e000",
   "metadata": {},
   "outputs": [],
   "source": []
  },
  {
   "cell_type": "markdown",
   "id": "5f1fe919",
   "metadata": {
    "ExecuteTime": {
     "end_time": "2022-06-03T19:26:26.236534Z",
     "start_time": "2022-06-03T19:26:26.221541Z"
    }
   },
   "source": [
    "## Python String Exercise"
   ]
  },
  {
   "cell_type": "raw",
   "id": "484bdc56",
   "metadata": {},
   "source": [
    "Exercise 1A: Create a string made of the first, middle and last character\n",
    "Write a program to create a new string made of an input string’s first, middle, and last character.\n",
    "\n",
    "Given:\n",
    "\n",
    "str1 = \"James\"\n",
    "Expected Output:\n",
    "\n",
    "Jms"
   ]
  },
  {
   "cell_type": "code",
   "execution_count": 5,
   "id": "35260136",
   "metadata": {
    "ExecuteTime": {
     "end_time": "2022-06-04T17:54:19.138494Z",
     "start_time": "2022-06-04T17:54:01.359922Z"
    }
   },
   "outputs": [
    {
     "name": "stdout",
     "output_type": "stream",
     "text": [
      "Enter a string with odd length : james\n",
      "jms\n"
     ]
    }
   ],
   "source": [
    "input_str = input(\"Enter a string with odd length : \")\n",
    "if len(input_str) % 2 == 1:\n",
    "    new_str = input_str[0] + input_str[int(len(input_str)/2)] + input_str[-1]\n",
    "    print(new_str)\n",
    "else :\n",
    "    print(\"Entered string is of even length\")"
   ]
  },
  {
   "cell_type": "code",
   "execution_count": null,
   "id": "db7c176a",
   "metadata": {},
   "outputs": [],
   "source": []
  },
  {
   "cell_type": "raw",
   "id": "e07b446f",
   "metadata": {},
   "source": [
    "Exercise 1B: Create a string made of the middle three characters\n",
    "Write a program to create a new string made of the middle three characters of an input string.\n",
    "\n",
    "Given:\n",
    "\n",
    "Case 1\n",
    "\n",
    "str1 = \"JhonDipPeta\"\n",
    "Output\n",
    "\n",
    "Dip\n",
    "\n",
    "Case 2\n",
    "\n",
    "str2 = \"JaSonAy\"\n",
    "Output\n",
    "\n",
    "Son"
   ]
  },
  {
   "cell_type": "code",
   "execution_count": 10,
   "id": "13a42c97",
   "metadata": {
    "ExecuteTime": {
     "end_time": "2022-06-04T17:58:08.220963Z",
     "start_time": "2022-06-04T17:58:06.352894Z"
    }
   },
   "outputs": [
    {
     "name": "stdout",
     "output_type": "stream",
     "text": [
      "Enter a string with odd length : JaSonAy\n",
      "Son\n"
     ]
    }
   ],
   "source": [
    "input_str = input(\"Enter a string with odd length : \")\n",
    "if len(input_str) % 2 == 1:\n",
    "    new_str = input_str[int(len(input_str)/2 - 1)] + input_str[int(len(input_str)/2)] + input_str[int(len(input_str)/2 + 1)]\n",
    "    print(new_str)\n",
    "else :\n",
    "    print(\"Entered string is of even length\")"
   ]
  },
  {
   "cell_type": "code",
   "execution_count": null,
   "id": "35092af9",
   "metadata": {},
   "outputs": [],
   "source": []
  },
  {
   "cell_type": "raw",
   "id": "ca41b69b",
   "metadata": {},
   "source": [
    "Exercise 2: Append new string in the middle of a given string\n",
    "Given two strings, s1 and s2. Write a program to create a new string s3 by appending s2 in the middle of s1.\n",
    "\n",
    "Given:\n",
    "\n",
    "s1 = \"Ault\"\n",
    "s2 = \"Kelly\"\n",
    "Expected Output:\n",
    "\n",
    "AuKellylt"
   ]
  },
  {
   "cell_type": "code",
   "execution_count": 13,
   "id": "888f4f60",
   "metadata": {
    "ExecuteTime": {
     "end_time": "2022-06-04T18:01:05.308753Z",
     "start_time": "2022-06-04T18:01:05.298756Z"
    }
   },
   "outputs": [
    {
     "name": "stdout",
     "output_type": "stream",
     "text": [
      "AuKellylt\n"
     ]
    }
   ],
   "source": [
    "s1 = \"Ault\"\n",
    "s2 = \"Kelly\"\n",
    "s3 = s1[0 : int(len(s1)/2)] + s2 + s1[int(len(s1)/2) : int(len(s1))]\n",
    "print(s3)"
   ]
  },
  {
   "cell_type": "code",
   "execution_count": null,
   "id": "41b15fba",
   "metadata": {},
   "outputs": [],
   "source": []
  },
  {
   "cell_type": "raw",
   "id": "edcf9590",
   "metadata": {},
   "source": [
    "Exercise 3: Create a new string made of the first, middle, and last characters of each input string\n",
    "Given two strings, s1 and s2, write a program to return a new string made of s1 and s2’s first, middle, and last characters.\n",
    "\n",
    "Given:\n",
    "\n",
    "s1 = \"America\"\n",
    "s2 = \"Japan\"\n",
    "Expected Output:\n",
    "\n",
    "AJrpan"
   ]
  },
  {
   "cell_type": "code",
   "execution_count": 15,
   "id": "6d39dcff",
   "metadata": {
    "ExecuteTime": {
     "end_time": "2022-06-04T18:03:44.824513Z",
     "start_time": "2022-06-04T18:03:44.808522Z"
    }
   },
   "outputs": [
    {
     "name": "stdout",
     "output_type": "stream",
     "text": [
      "AJrpan\n"
     ]
    }
   ],
   "source": [
    "s1 = \"America\"\n",
    "s2 = \"Japan\"\n",
    "s3 = s1[0] + s2[0] + s1[int(len(s1)/2)] + s2[int(len(s2)/2)] + s1[-1] +s2[-1]\n",
    "print(s3)"
   ]
  },
  {
   "cell_type": "code",
   "execution_count": null,
   "id": "b7f3ca48",
   "metadata": {},
   "outputs": [],
   "source": []
  },
  {
   "cell_type": "raw",
   "id": "50e859fa",
   "metadata": {},
   "source": [
    "Exercise 4: Arrange string characters such that lowercase letters should come first\n",
    "Given string contains a combination of the lower and upper case letters. Write a program to arrange the characters of a string so that all lowercase letters should come first.\n",
    "\n",
    "Given:\n",
    "\n",
    "str1 = PyNaTive\n",
    "Expected Output:\n",
    "\n",
    "yaivePNT"
   ]
  },
  {
   "cell_type": "code",
   "execution_count": 24,
   "id": "d9b0b659",
   "metadata": {
    "ExecuteTime": {
     "end_time": "2022-06-04T18:13:52.275004Z",
     "start_time": "2022-06-04T18:13:52.255059Z"
    }
   },
   "outputs": [
    {
     "name": "stdout",
     "output_type": "stream",
     "text": [
      "yaivePNT\n"
     ]
    }
   ],
   "source": [
    "check_string = \"PyNaTive\"\n",
    "\n",
    "lower = []\n",
    "upper = []\n",
    "for c in check_string:\n",
    "    if c.islower():\n",
    "        lower.append(c)\n",
    "    else:\n",
    "        upper.append(c)\n",
    "\n",
    "new_string = ''.join(lower + upper)\n",
    "print(new_string)"
   ]
  },
  {
   "cell_type": "code",
   "execution_count": null,
   "id": "5d88379c",
   "metadata": {},
   "outputs": [],
   "source": []
  },
  {
   "cell_type": "raw",
   "id": "0c06ef44",
   "metadata": {},
   "source": [
    "Exercise 5: Count all letters, digits, and special symbols from a given string\n",
    "Given:\n",
    "\n",
    "str1 = \"P@#yn26at^&i5ve\"\n",
    "Expected Outcome:\n",
    "\n",
    "Total counts of chars, digits, and symbols \n",
    "\n",
    "Chars = 8 \n",
    "Digits = 3 \n",
    "Symbol = 4"
   ]
  },
  {
   "cell_type": "code",
   "execution_count": 39,
   "id": "80cd9304",
   "metadata": {
    "ExecuteTime": {
     "end_time": "2022-06-04T18:24:24.329555Z",
     "start_time": "2022-06-04T18:24:24.318597Z"
    }
   },
   "outputs": [
    {
     "name": "stdout",
     "output_type": "stream",
     "text": [
      "Chars = 8 \n",
      "Digits = 3 \n",
      "Symbol = 4\n"
     ]
    }
   ],
   "source": [
    "sample_str = \"P@#yn26at^&i5ve\"\n",
    "char_count = 0\n",
    "digit_count = 0\n",
    "symbol_count = 0\n",
    "for i in sample_str:\n",
    "    if i.isalpha():\n",
    "        char_count += 1\n",
    "    elif i.isdigit():\n",
    "        digit_count += 1\n",
    "    else:\n",
    "        symbol_count += 1\n",
    "\n",
    "print(\"Chars =\", char_count, \"\\nDigits =\", digit_count, \"\\nSymbol =\", symbol_count)\n"
   ]
  },
  {
   "cell_type": "code",
   "execution_count": null,
   "id": "2666d6fd",
   "metadata": {},
   "outputs": [],
   "source": []
  },
  {
   "cell_type": "raw",
   "id": "07e81c0a",
   "metadata": {},
   "source": [
    "Exercise 6: Create a mixed String using the following rules\n",
    "Given two strings, s1 and s2. Write a program to create a new string s3 made of the first char of s1, then the last char of s2, Next, the second char of s1 and second last char of s2, and so on. Any leftover chars go at the end of the result.\n",
    "\n",
    "Given:\n",
    "\n",
    "s1 = \"Abc\"\n",
    "s2 = \"Xyz\"\n",
    "Expected Output:\n",
    "\n",
    "AzbycX"
   ]
  },
  {
   "cell_type": "code",
   "execution_count": 42,
   "id": "df1cfdcf",
   "metadata": {
    "ExecuteTime": {
     "end_time": "2022-06-04T18:28:19.327250Z",
     "start_time": "2022-06-04T18:28:19.317242Z"
    }
   },
   "outputs": [
    {
     "name": "stdout",
     "output_type": "stream",
     "text": [
      "AzbycX\n"
     ]
    }
   ],
   "source": [
    "s1 = \"Abc\"\n",
    "s2 = \"Xyz\"\n",
    "s2 = s2[::-1]\n",
    "length = len(s1) if len(s1) > len(s2) else len(s2)\n",
    "result = \"\"\n",
    "\n",
    "for i in range(length):\n",
    "    if i < len(s1):\n",
    "        result = result + s1[i]\n",
    "    if i < len(s2):\n",
    "        result = result + s2[i]\n",
    "        \n",
    "print(result)"
   ]
  },
  {
   "cell_type": "code",
   "execution_count": null,
   "id": "835a3f08",
   "metadata": {},
   "outputs": [],
   "source": []
  },
  {
   "cell_type": "raw",
   "id": "59f14f04",
   "metadata": {},
   "source": [
    "Exercise 7: String characters balance Test\n",
    "Write a program to check if two strings are balanced. For example, strings s1 and s2 are balanced if all the characters in the s1 are present in s2. The character’s position doesn’t matter.\n",
    "\n",
    "Given:\n",
    "\n",
    "Case 1:\n",
    "\n",
    "s1 = \"Yn\"\n",
    "s2 = \"PYnative\"\n",
    "Expected Output:\n",
    "\n",
    "True\n",
    "Case 2:\n",
    "\n",
    "s1 = \"Ynf\"\n",
    "s2 = \"PYnative\"\n",
    "Expected Output:\n",
    "\n",
    "False"
   ]
  },
  {
   "cell_type": "code",
   "execution_count": 43,
   "id": "9b01f9b4",
   "metadata": {
    "ExecuteTime": {
     "end_time": "2022-06-04T18:30:04.942629Z",
     "start_time": "2022-06-04T18:30:04.926637Z"
    }
   },
   "outputs": [
    {
     "name": "stdout",
     "output_type": "stream",
     "text": [
      "s1 and s2 are balanced: False\n"
     ]
    }
   ],
   "source": [
    "def string_balance_test(s1, s2):\n",
    "    flag = True\n",
    "    for char in s1:\n",
    "        if char in s2:\n",
    "            continue\n",
    "        else:\n",
    "            flag = False\n",
    "    return flag\n",
    "\n",
    "s1 = \"Ynf\"\n",
    "s2 = \"PYnative\"\n",
    "print(\"s1 and s2 are balanced:\", string_balance_test(s1, s2))"
   ]
  },
  {
   "cell_type": "code",
   "execution_count": null,
   "id": "0a72aec0",
   "metadata": {},
   "outputs": [],
   "source": []
  },
  {
   "cell_type": "raw",
   "id": "e0f40282",
   "metadata": {},
   "source": [
    "Exercise 8: Find all occurrences of a substring in a given string by ignoring the case\n",
    "Write a program to find all occurrences of “USA” in a given string ignoring the case.\n",
    "\n",
    "Given:\n",
    "\n",
    "str1 = \"Welcome to USA. usa awesome, isn't it?\"\n",
    "Expected Outcome:\n",
    "\n",
    "The USA count is: 2"
   ]
  },
  {
   "cell_type": "code",
   "execution_count": 48,
   "id": "ade235df",
   "metadata": {
    "ExecuteTime": {
     "end_time": "2022-06-04T19:26:59.297021Z",
     "start_time": "2022-06-04T19:26:59.283033Z"
    }
   },
   "outputs": [
    {
     "name": "stdout",
     "output_type": "stream",
     "text": [
      "The USA count is: 2\n"
     ]
    }
   ],
   "source": [
    "string = \"Welcome to USA. usa awesome, isn't it?\"\n",
    "\n",
    "sub_string = \"USA\"\n",
    "temp_string = string.lower()\n",
    "\n",
    "count = temp_string.count(sub_string.lower())\n",
    "print(\"The USA count is:\", count)"
   ]
  },
  {
   "cell_type": "code",
   "execution_count": null,
   "id": "c655cb0d",
   "metadata": {},
   "outputs": [],
   "source": []
  },
  {
   "cell_type": "raw",
   "id": "362c720c",
   "metadata": {},
   "source": [
    "Exercise 9: Calculate the sum and average of the digits present in a string\n",
    "Given a string s1, write a program to return the sum and average of the digits that appear in the string, ignoring all other characters.\n",
    "\n",
    "Given:\n",
    "\n",
    "str1 = \"PYnative29@#8496\"\n",
    "Expected Outcome:\n",
    "\n",
    "Sum is: 38 Average is  6.333333333333333"
   ]
  },
  {
   "cell_type": "code",
   "execution_count": 52,
   "id": "a182005b",
   "metadata": {
    "ExecuteTime": {
     "end_time": "2022-06-04T19:30:31.053372Z",
     "start_time": "2022-06-04T19:30:31.036386Z"
    }
   },
   "outputs": [
    {
     "name": "stdout",
     "output_type": "stream",
     "text": [
      "Sum is :  38 \n",
      "Average i s:  6.333333333333333\n"
     ]
    }
   ],
   "source": [
    "str1 = \"PYnative29@#8496\"\n",
    "summ = 0\n",
    "digit_count = 0\n",
    "for i in str1:\n",
    "    if i.isdigit():\n",
    "        digit_count += 1\n",
    "        summ += int(i)\n",
    "print(\"Sum is : \",summ, \"\\nAverage i s: \",summ/digit_count)"
   ]
  },
  {
   "cell_type": "code",
   "execution_count": null,
   "id": "3459a4ae",
   "metadata": {},
   "outputs": [],
   "source": []
  },
  {
   "cell_type": "raw",
   "id": "46d8b888",
   "metadata": {},
   "source": [
    "Exercise 10: Write a program to count occurrences of all characters within a string\n",
    "Given:\n",
    "\n",
    "str1 = \"Apple\"\n",
    "Expected Outcome:\n",
    "\n",
    "{'A': 1, 'p': 2, 'l': 1, 'e': 1}"
   ]
  },
  {
   "cell_type": "code",
   "execution_count": 53,
   "id": "8b45afb3",
   "metadata": {
    "ExecuteTime": {
     "end_time": "2022-06-04T19:32:32.464958Z",
     "start_time": "2022-06-04T19:32:32.448004Z"
    }
   },
   "outputs": [
    {
     "name": "stdout",
     "output_type": "stream",
     "text": [
      "{'A': 1, 'p': 2, 'l': 1, 'e': 1}\n"
     ]
    }
   ],
   "source": [
    "string = \"Apple\"\n",
    "\n",
    "char_dict = dict()\n",
    "\n",
    "for c in string:\n",
    "    count = string.count(c)\n",
    "    char_dict[c] = count\n",
    "    \n",
    "print(char_dict)"
   ]
  },
  {
   "cell_type": "code",
   "execution_count": null,
   "id": "68e9403b",
   "metadata": {},
   "outputs": [],
   "source": []
  },
  {
   "cell_type": "code",
   "execution_count": null,
   "id": "cd2cbc37",
   "metadata": {},
   "outputs": [],
   "source": [
    "Exercise 11: Reverse a given string\n",
    "Given:\n",
    "\n",
    "str1 = \"PYnative\"\n",
    "Expected Output:\n",
    "\n",
    "evitanYP"
   ]
  },
  {
   "cell_type": "code",
   "execution_count": 54,
   "id": "faa8b73e",
   "metadata": {
    "ExecuteTime": {
     "end_time": "2022-06-04T19:33:07.213324Z",
     "start_time": "2022-06-04T19:33:07.198364Z"
    }
   },
   "outputs": [
    {
     "name": "stdout",
     "output_type": "stream",
     "text": [
      "evitanYP\n"
     ]
    }
   ],
   "source": [
    "str1 = \"PYnative\"\n",
    "print(str1[::-1])"
   ]
  },
  {
   "cell_type": "code",
   "execution_count": null,
   "id": "36a932fc",
   "metadata": {},
   "outputs": [],
   "source": []
  },
  {
   "cell_type": "raw",
   "id": "a9e32aef",
   "metadata": {},
   "source": [
    "Exercise 12: Find the last position of a given substring\n",
    "Write a program to find the last position of a substring “Emma” in a given string.\n",
    "\n",
    "Given:\n",
    "\n",
    "str1 = \"Emma is a data scientist who knows Python. Emma works at google.\"\n",
    "Expected Output:\n",
    "\n",
    "Last occurrence of Emma starts at index 43"
   ]
  },
  {
   "cell_type": "code",
   "execution_count": 55,
   "id": "814242e7",
   "metadata": {
    "ExecuteTime": {
     "end_time": "2022-06-04T20:10:57.123219Z",
     "start_time": "2022-06-04T20:10:57.117235Z"
    }
   },
   "outputs": [
    {
     "name": "stdout",
     "output_type": "stream",
     "text": [
      "Last occurrence of Emma starts at index: 43\n"
     ]
    }
   ],
   "source": [
    "string = \"Emma is a data scientist who knows Python. Emma works at google.\"\n",
    "\n",
    "idx = string.rfind(\"Emma\")\n",
    "print(\"Last occurrence of Emma starts at index:\", idx)"
   ]
  },
  {
   "cell_type": "code",
   "execution_count": null,
   "id": "46e1a185",
   "metadata": {},
   "outputs": [],
   "source": []
  },
  {
   "cell_type": "raw",
   "id": "3f30b990",
   "metadata": {},
   "source": [
    "Exercise 13: Split a string on hyphens\n",
    "Write a program to split a given string on hyphens and display each substring.\n",
    "\n",
    "Given:\n",
    "\n",
    "str1 = Emma-is-a-data-scientist\n",
    "\n",
    "Expected Output:\n",
    "\n",
    "Displaying each substring\n",
    "\n",
    "Emma\n",
    "is\n",
    "a\n",
    "data\n",
    "scientist"
   ]
  },
  {
   "cell_type": "code",
   "execution_count": 56,
   "id": "96de18b8",
   "metadata": {
    "ExecuteTime": {
     "end_time": "2022-06-04T20:12:23.366868Z",
     "start_time": "2022-06-04T20:12:23.353911Z"
    }
   },
   "outputs": [
    {
     "name": "stdout",
     "output_type": "stream",
     "text": [
      "Emma\n",
      "is\n",
      "a\n",
      "data\n",
      "scientist\n"
     ]
    }
   ],
   "source": [
    "str1 = \"Emma-is-a-data-scientist\"\n",
    "str1_list = str1.split('-')\n",
    "for i in str1_list:\n",
    "    print(i)"
   ]
  },
  {
   "cell_type": "code",
   "execution_count": null,
   "id": "b53042ee",
   "metadata": {},
   "outputs": [],
   "source": []
  },
  {
   "cell_type": "raw",
   "id": "178cd79b",
   "metadata": {},
   "source": [
    "Exercise 14: Remove empty strings from a list of strings\n",
    "Given:\n",
    "\n",
    "str_list = [\"Emma\", \"Jon\", \"\", \"Kelly\", None, \"Eric\", \"\"]\n",
    "Expected Output:\n",
    "\n",
    "Original list of sting\n",
    "['Emma', 'Jon', '', 'Kelly', None, 'Eric', '']\n",
    "\n",
    "After removing empty strings\n",
    "['Emma', 'Jon', 'Kelly', 'Eric']"
   ]
  },
  {
   "cell_type": "code",
   "execution_count": 57,
   "id": "7d9bf017",
   "metadata": {
    "ExecuteTime": {
     "end_time": "2022-06-04T20:18:14.174946Z",
     "start_time": "2022-06-04T20:18:14.163975Z"
    }
   },
   "outputs": [
    {
     "name": "stdout",
     "output_type": "stream",
     "text": [
      "['Emma', 'Jon', 'Kelly', 'Eric']\n"
     ]
    }
   ],
   "source": [
    "str_list = [\"Emma\", \"Jon\", \"\", \"Kelly\", None, \"Eric\", \"\"]\n",
    "non_empty_str_list = []\n",
    "for e in str_list:\n",
    "    if e:\n",
    "        non_empty_str_list.append(e)\n",
    "print(non_empty_str_list)"
   ]
  },
  {
   "cell_type": "code",
   "execution_count": null,
   "id": "0d07955a",
   "metadata": {},
   "outputs": [],
   "source": []
  },
  {
   "cell_type": "raw",
   "id": "7e640ab8",
   "metadata": {},
   "source": [
    "Exercise 15: Remove special symbols / punctuation from a string\n",
    "Given:\n",
    "\n",
    "str1 = \"/*Jon is @developer & musician\"\n",
    "Expected Output:\n",
    "\n",
    "\"Jon is developer musician\""
   ]
  },
  {
   "cell_type": "code",
   "execution_count": 60,
   "id": "d5a1823b",
   "metadata": {
    "ExecuteTime": {
     "end_time": "2022-06-04T20:24:17.510176Z",
     "start_time": "2022-06-04T20:24:17.495216Z"
    }
   },
   "outputs": [
    {
     "name": "stdout",
     "output_type": "stream",
     "text": [
      "Jon is developer  musician\n"
     ]
    }
   ],
   "source": [
    "import re\n",
    "str1 = \"/*Jon is @developer & musician\"\n",
    "print(re.sub('[^A-Za-z0-9 ]+', '', str1))\n"
   ]
  },
  {
   "cell_type": "code",
   "execution_count": null,
   "id": "e987c492",
   "metadata": {},
   "outputs": [],
   "source": []
  },
  {
   "cell_type": "raw",
   "id": "785c2dbc",
   "metadata": {},
   "source": [
    "Exercise 16: Removal all characters from a string except integers\n",
    "Given:\n",
    "\n",
    "str1 = 'I am 25 years and 10 months old'\n",
    "Expected Output:\n",
    "\n",
    "2510"
   ]
  },
  {
   "cell_type": "code",
   "execution_count": 61,
   "id": "1e11f65c",
   "metadata": {
    "ExecuteTime": {
     "end_time": "2022-06-04T20:26:18.533044Z",
     "start_time": "2022-06-04T20:26:18.516107Z"
    }
   },
   "outputs": [
    {
     "name": "stdout",
     "output_type": "stream",
     "text": [
      "2510\n"
     ]
    }
   ],
   "source": [
    "import re\n",
    "str1 = 'I am 25 years and 10 months old'\n",
    "print(re.sub('[^0-9]+', '', str1))"
   ]
  },
  {
   "cell_type": "code",
   "execution_count": null,
   "id": "ded1984a",
   "metadata": {},
   "outputs": [],
   "source": []
  },
  {
   "cell_type": "raw",
   "id": "5913f136",
   "metadata": {},
   "source": [
    "Exercise 17: Find words with both alphabets and numbers\n",
    "Write a program to find words with both alphabets and numbers from an input string.\n",
    "\n",
    "Given:\n",
    "\n",
    "str1 = \"Emma25 is Data scientist50 and AI Expert\"\n",
    "Expected Output:\n",
    "\n",
    "Emma25\n",
    "scientist50\n"
   ]
  },
  {
   "cell_type": "code",
   "execution_count": 74,
   "id": "70d2d19b",
   "metadata": {
    "ExecuteTime": {
     "end_time": "2022-06-04T20:49:04.101486Z",
     "start_time": "2022-06-04T20:49:04.081473Z"
    }
   },
   "outputs": [
    {
     "name": "stdout",
     "output_type": "stream",
     "text": [
      "Emma25\n",
      "scientist50\n"
     ]
    }
   ],
   "source": [
    "import re\n",
    "str1 = \"Emma25 is Data scientist50 and AI Expert\"\n",
    "for word in str1.split():\n",
    "    if any(char.isalpha() for char in word) and any(char.isdigit() for char in word):\n",
    "        print(word)"
   ]
  },
  {
   "cell_type": "code",
   "execution_count": null,
   "id": "c10d4ece",
   "metadata": {},
   "outputs": [],
   "source": []
  },
  {
   "cell_type": "raw",
   "id": "f6f4ca7a",
   "metadata": {},
   "source": [
    "Exercise 18: Replace each special symbol with # in the following string\n",
    "Given:\n",
    "\n",
    "str1 = '/*Jon is @developer & musician!!'\n",
    "Expected Output:\n",
    "\n",
    "##Jon is #developer # musician##"
   ]
  },
  {
   "cell_type": "code",
   "execution_count": 78,
   "id": "1b9c8382",
   "metadata": {
    "ExecuteTime": {
     "end_time": "2022-06-04T21:10:32.777290Z",
     "start_time": "2022-06-04T21:10:32.761233Z"
    }
   },
   "outputs": [
    {
     "name": "stdout",
     "output_type": "stream",
     "text": [
      "##Jon is #developer # musician##\n"
     ]
    }
   ],
   "source": [
    "import string\n",
    "\n",
    "str1 = '/*Jon is @developer & musician!!'\n",
    "for char in string.punctuation:\n",
    "    str1 = str1.replace(char, '#')\n",
    "print(str1)"
   ]
  },
  {
   "cell_type": "code",
   "execution_count": null,
   "id": "94c2ec47",
   "metadata": {},
   "outputs": [],
   "source": []
  },
  {
   "cell_type": "markdown",
   "id": "f629d74a",
   "metadata": {
    "ExecuteTime": {
     "end_time": "2022-06-03T19:26:26.252483Z",
     "start_time": "2022-06-03T19:26:26.237499Z"
    }
   },
   "source": [
    "## Python Data Structure Exercise"
   ]
  },
  {
   "cell_type": "raw",
   "id": "49977145",
   "metadata": {},
   "source": [
    "Exercise 1: Create a list by picking an odd-index items from the first list and even index items from the second\n",
    "Given two lists, l1 and l2, write a program to create a third list l3 by picking an odd-index element from the list l1 and even index elements from the list l2.\n",
    "\n",
    "Given:\n",
    "\n",
    "l1 = [3, 6, 9, 12, 15, 18, 21]\n",
    "l2 = [4, 8, 12, 16, 20, 24, 28]\n",
    "Expected Output:\n",
    "\n",
    "Element at odd-index positions from list one\n",
    "[6, 12, 18]\n",
    "Element at even-index positions from list two\n",
    "[4, 12, 20, 28]\n",
    "\n",
    "Printing Final third list\n",
    "[6, 12, 18, 4, 12, 20, 28]"
   ]
  },
  {
   "cell_type": "code",
   "execution_count": 5,
   "id": "a6b44ada",
   "metadata": {
    "ExecuteTime": {
     "end_time": "2022-06-05T21:33:47.156277Z",
     "start_time": "2022-06-05T21:33:47.144277Z"
    }
   },
   "outputs": [
    {
     "name": "stdout",
     "output_type": "stream",
     "text": [
      "[6, 12, 18, 4, 12, 20, 28]\n"
     ]
    }
   ],
   "source": [
    "l1 = [3, 6, 9, 12, 15, 18, 21]\n",
    "l2 = [4, 8, 12, 16, 20, 24, 28]\n",
    "\n",
    "odd_elements = l1[1::2]\n",
    "even_elements = l2[0::2]\n",
    "final_list = odd_elements + even_elements\n",
    "print(final_list)"
   ]
  },
  {
   "cell_type": "code",
   "execution_count": null,
   "id": "99f24ee2",
   "metadata": {},
   "outputs": [],
   "source": []
  },
  {
   "cell_type": "raw",
   "id": "658ef400",
   "metadata": {},
   "source": [
    "Exercise 2: Remove and add item in a list\n",
    "Write a program to remove the item present at index 4 and add it to the 2nd position and at the end of the list.\n",
    "\n",
    "Given:\n",
    "\n",
    "list1 = [54, 44, 27, 79, 91, 41]\n",
    "Expected Output:\n",
    "\n",
    "List After removing element at index 4  [34, 54, 67, 89, 43, 94]\n",
    "List after Adding element at index 2  [34, 54, 11, 67, 89, 43, 94]\n",
    "List after Adding element at last  [34, 54, 11, 67, 89, 43, 94, 11]"
   ]
  },
  {
   "cell_type": "code",
   "execution_count": 7,
   "id": "a8e21a2e",
   "metadata": {
    "ExecuteTime": {
     "end_time": "2022-06-05T21:41:01.279131Z",
     "start_time": "2022-06-05T21:41:01.255097Z"
    }
   },
   "outputs": [
    {
     "name": "stdout",
     "output_type": "stream",
     "text": [
      "Original list  [34, 54, 67, 89, 11, 43, 94]\n",
      "List After removing element at index 4  [34, 54, 67, 89, 43, 94]\n",
      "List after Adding element at index 2  [34, 54, 11, 67, 89, 43, 94]\n",
      "List after Adding element at last  [34, 54, 11, 67, 89, 43, 94, 11]\n"
     ]
    }
   ],
   "source": [
    "list1 = [34, 54, 67, 89, 11, 43, 94]\n",
    "\n",
    "print(\"Original list \", list1)\n",
    "element = list1.pop(4)\n",
    "print(\"List After removing element at index 4 \", list1)\n",
    "\n",
    "list1.insert(2, element)\n",
    "print(\"List after Adding element at index 2 \", list1)\n",
    "\n",
    "list1.append(element)\n",
    "print(\"List after Adding element at last \", list1)"
   ]
  },
  {
   "cell_type": "code",
   "execution_count": null,
   "id": "ff239545",
   "metadata": {},
   "outputs": [],
   "source": []
  },
  {
   "cell_type": "raw",
   "id": "69ca8770",
   "metadata": {},
   "source": [
    "Exercise 3: Slice list into 3 equal chunks and reverse each chunk\n",
    "Given:\n",
    "\n",
    "sample_list = [11, 45, 8, 23, 14, 12, 78, 45, 89]\n",
    "Expected Outcome:\n",
    "\n",
    "Chunk  1 [11, 45, 8]\n",
    "After reversing it  [8, 45, 11]\n",
    "Chunk  2 [23, 14, 12]\n",
    "After reversing it  [12, 14, 23]\n",
    "Chunk  3 [78, 45, 89]\n",
    "After reversing it  [89, 45, 78]"
   ]
  },
  {
   "cell_type": "code",
   "execution_count": 15,
   "id": "05aaa038",
   "metadata": {
    "ExecuteTime": {
     "end_time": "2022-06-05T21:48:57.512379Z",
     "start_time": "2022-06-05T21:48:57.480378Z"
    }
   },
   "outputs": [
    {
     "name": "stdout",
     "output_type": "stream",
     "text": [
      "Orignal list :  [11, 45, 8, 23, 14, 12, 78, 45, 89]\n",
      "Chunk 1 :  [8, 45, 11]\n",
      "Chunk 2 :  [12, 14, 23]\n",
      "Chunk 3 :  [89, 45, 78]\n"
     ]
    }
   ],
   "source": [
    "list1 = [11, 45, 8, 23, 14, 12, 78, 45, 89]\n",
    "print(\"Orignal list : \", list1)\n",
    "\n",
    "chunk1 = list1[0:int(len(list1)/3)]\n",
    "print(\"Chunk 1 : \", chunk1[::-1])\n",
    "\n",
    "chunk2 = list1[int(len(list1)/3) : 2 * int(len(list1)/3) ]\n",
    "print(\"Chunk 2 : \", chunk2[::-1])\n",
    "\n",
    "chunk3 = list1[2 * int(len(list1)/3):]\n",
    "print(\"Chunk 3 : \", chunk3[::-1])"
   ]
  },
  {
   "cell_type": "code",
   "execution_count": null,
   "id": "b10a2cea",
   "metadata": {},
   "outputs": [],
   "source": []
  },
  {
   "cell_type": "raw",
   "id": "4b394d28",
   "metadata": {},
   "source": [
    "Exercise 4: Count the occurrence of each element from a list\n",
    "Write a program to iterate a given list and count the occurrence of each element and create a dictionary to show the count of each element.\n",
    "\n",
    "Given:\n",
    "\n",
    "sample_list = [11, 45, 8, 11, 23, 45, 23, 45, 89]\n",
    "Expected Output:\n",
    "\n",
    "Printing count of each item   {11: 2, 45: 3, 8: 1, 23: 2, 89: 1}"
   ]
  },
  {
   "cell_type": "code",
   "execution_count": 17,
   "id": "12d94438",
   "metadata": {
    "ExecuteTime": {
     "end_time": "2022-06-05T21:55:27.811141Z",
     "start_time": "2022-06-05T21:55:27.791160Z"
    }
   },
   "outputs": [
    {
     "name": "stdout",
     "output_type": "stream",
     "text": [
      "{11: 2, 45: 3, 8: 1, 23: 2, 89: 1}\n"
     ]
    }
   ],
   "source": [
    "list1 = [11, 45, 8, 11, 23, 45, 23, 45, 89]\n",
    "list_count = {}\n",
    "for i in list1:\n",
    "    count = list1.count(i)\n",
    "    list_count[i] = count\n",
    "    \n",
    "print(list_count)"
   ]
  },
  {
   "cell_type": "code",
   "execution_count": null,
   "id": "e30fe517",
   "metadata": {},
   "outputs": [],
   "source": []
  },
  {
   "cell_type": "raw",
   "id": "b60493f3",
   "metadata": {},
   "source": [
    "Exercise 5: Create a Python set such that it shows the element from both lists in a pair\n",
    "Given:\n",
    "\n",
    "first_list = [2, 3, 4, 5, 6, 7, 8]\n",
    "second_list = [4, 9, 16, 25, 36, 49, 64]\n",
    "Expected Output:\n",
    "\n",
    "Result is  {(6, 36), (8, 64), (4, 16), (5, 25), (3, 9), (7, 49), (2, 4)}"
   ]
  },
  {
   "cell_type": "code",
   "execution_count": 21,
   "id": "e456969d",
   "metadata": {
    "ExecuteTime": {
     "end_time": "2022-06-05T21:58:48.868674Z",
     "start_time": "2022-06-05T21:58:48.852673Z"
    }
   },
   "outputs": [
    {
     "name": "stdout",
     "output_type": "stream",
     "text": [
      "{(7, 49), (2, 4), (4, 16), (8, 64), (6, 36), (3, 9), (5, 25)}\n"
     ]
    }
   ],
   "source": [
    "list1 = [2, 3, 4, 5, 6, 7, 8]\n",
    "\n",
    "list2 = [4, 9, 16, 25, 36, 49, 64]\n",
    "\n",
    "result = zip(list1, list2)\n",
    "result_set = set(result)\n",
    "print(result_set)"
   ]
  },
  {
   "cell_type": "code",
   "execution_count": null,
   "id": "63e01186",
   "metadata": {},
   "outputs": [],
   "source": []
  },
  {
   "cell_type": "raw",
   "id": "acb514b0",
   "metadata": {},
   "source": [
    "Exercise 6: Find the intersection (common) of two sets and remove those elements from the first set\n",
    "\n",
    "Given:\n",
    "\n",
    "first_set = {23, 42, 65, 57, 78, 83, 29}\n",
    "second_set = {57, 83, 29, 67, 73, 43, 48}\n",
    "Expected Output:\n",
    "\n",
    "Intersection is  {57, 83, 29}\n",
    "First Set after removing common element  {65, 42, 78, 23}"
   ]
  },
  {
   "cell_type": "code",
   "execution_count": 23,
   "id": "e563f46c",
   "metadata": {
    "ExecuteTime": {
     "end_time": "2022-06-05T22:03:10.327044Z",
     "start_time": "2022-06-05T22:03:10.321028Z"
    }
   },
   "outputs": [
    {
     "name": "stdout",
     "output_type": "stream",
     "text": [
      "Intersection is  {57, 83, 29}\n",
      "First Set after removing common element  {65, 42, 78, 23}\n"
     ]
    }
   ],
   "source": [
    "first_set = {23, 42, 65, 57, 78, 83, 29}\n",
    "second_set = {57, 83, 29, 67, 73, 43, 48}\n",
    "\n",
    "intersection = first_set.intersection(second_set)\n",
    "\n",
    "print(\"Intersection is \",intersection)\n",
    "\n",
    "for i in intersection:\n",
    "    first_set.remove(i)\n",
    "print(\"First Set after removing common element \", first_set)"
   ]
  },
  {
   "cell_type": "code",
   "execution_count": null,
   "id": "4a310d9c",
   "metadata": {},
   "outputs": [],
   "source": []
  },
  {
   "cell_type": "raw",
   "id": "8a78e120",
   "metadata": {},
   "source": [
    "Exercise 7: Checks if one set is a subset or superset of another set. If found, delete all elements from that set\n",
    "Given:\n",
    "\n",
    "first_set = {27, 43, 34}\n",
    "second_set = {34, 93, 22, 27, 43, 53, 48}\n",
    "Expected Output:\n",
    "\n",
    "First set is subset of second set - True\n",
    "Second set is subset of First set -  False\n",
    "\n",
    "First set is Super set of second set -  False\n",
    "Second set is Super set of First set -  True\n",
    "\n",
    "First Set  set()\n",
    "Second Set  {67, 73, 43, 48, 83, 57, 29}"
   ]
  },
  {
   "cell_type": "code",
   "execution_count": 26,
   "id": "06509ae5",
   "metadata": {
    "ExecuteTime": {
     "end_time": "2022-06-05T22:06:17.681887Z",
     "start_time": "2022-06-05T22:06:17.674896Z"
    }
   },
   "outputs": [
    {
     "name": "stdout",
     "output_type": "stream",
     "text": [
      "First Set  {57, 83, 29}\n",
      "Second Set  {67, 73, 43, 48, 83, 57, 29}\n",
      "\n",
      "First set is subset of second set - True\n",
      "Second set is subset of First set -  False\n",
      "\n",
      "First set is Super set of second set -  False\n",
      "Second set is Super set of First set -  True\n",
      "\n",
      "First Set  set()\n",
      "Second Set  {67, 73, 43, 48, 83, 57, 29}\n"
     ]
    }
   ],
   "source": [
    "first_set = {57, 83, 29}\n",
    "second_set = {57, 83, 29, 67, 73, 43, 48}\n",
    "\n",
    "print(\"First Set \", first_set)\n",
    "print(\"Second Set \", second_set)\n",
    "\n",
    "print(\"\\nFirst set is subset of second set -\", first_set.issubset(second_set))\n",
    "print(\"Second set is subset of First set - \", second_set.issubset(first_set))\n",
    "\n",
    "print(\"\\nFirst set is Super set of second set - \", first_set.issuperset(second_set))\n",
    "print(\"Second set is Super set of First set - \", second_set.issuperset(first_set))\n",
    "\n",
    "if first_set.issubset(second_set):\n",
    "    first_set.clear()\n",
    "\n",
    "elif second_set.issubset(first_set):\n",
    "    second_set.clear()\n",
    "\n",
    "print(\"\\nFirst Set \", first_set)\n",
    "print(\"Second Set \", second_set)"
   ]
  },
  {
   "cell_type": "code",
   "execution_count": null,
   "id": "a2952b53",
   "metadata": {},
   "outputs": [],
   "source": []
  },
  {
   "cell_type": "raw",
   "id": "5fa5c1b2",
   "metadata": {},
   "source": [
    "Exercise 8: Iterate a given list and check if a given element exists as a key’s value in a dictionary. If not, delete it from the list\n",
    "Given:\n",
    "\n",
    "roll_number = [47, 64, 69, 37, 76, 83, 95, 97]\n",
    "sample_dict = {'Jhon':47, 'Emma':69, 'Kelly':76, 'Jason':97}\n",
    "Expected Outcome:\n",
    "\n",
    "After removing unwanted elements from list [47, 69, 76, 97]"
   ]
  },
  {
   "cell_type": "code",
   "execution_count": 43,
   "id": "9c6459da",
   "metadata": {
    "ExecuteTime": {
     "end_time": "2022-06-05T22:15:58.204967Z",
     "start_time": "2022-06-05T22:15:58.192032Z"
    }
   },
   "outputs": [
    {
     "name": "stdout",
     "output_type": "stream",
     "text": [
      "After removing unwanted elements from list  [47, 69, 76, 97]\n"
     ]
    }
   ],
   "source": [
    "roll_number = [47, 64, 69, 37, 76, 83, 95, 97]\n",
    "sample_dict = {'Jhon': 47, 'Emma': 69, 'Kelly': 76, 'Jason': 97}\n",
    "\n",
    "roll_number[:] = [item for item in roll_number if item in sample_dict.values()]\n",
    "print(\"After removing unwanted elements from list \", roll_number)"
   ]
  },
  {
   "cell_type": "code",
   "execution_count": null,
   "id": "f52ab98b",
   "metadata": {},
   "outputs": [],
   "source": []
  },
  {
   "cell_type": "raw",
   "id": "95639332",
   "metadata": {},
   "source": [
    "Exercise 9: Get all values from the dictionary and add them to a list but don’t add duplicates\n",
    "Given:\n",
    "\n",
    "speed = {'jan': 47, 'feb': 52, 'march': 47, 'April': 44, 'May': 52, 'June': 53, 'july': 54, 'Aug': 44, 'Sept': 54}\n",
    "Expected Outcome:\n",
    "\n",
    "[47, 52, 44, 53, 54]"
   ]
  },
  {
   "cell_type": "code",
   "execution_count": 44,
   "id": "7e2112e8",
   "metadata": {
    "ExecuteTime": {
     "end_time": "2022-06-05T22:17:19.369317Z",
     "start_time": "2022-06-05T22:17:19.362303Z"
    }
   },
   "outputs": [
    {
     "name": "stdout",
     "output_type": "stream",
     "text": [
      "[44, 47, 52, 53, 54]\n"
     ]
    }
   ],
   "source": [
    "speed = {'jan': 47, 'feb': 52, 'march': 47, 'April': 44, 'May': 52, 'June': 53, 'july': 54, 'Aug': 44, 'Sept': 54}\n",
    "list_values = list(set(speed.values()))\n",
    "print(list_values)"
   ]
  },
  {
   "cell_type": "code",
   "execution_count": null,
   "id": "4a4afd29",
   "metadata": {},
   "outputs": [],
   "source": []
  },
  {
   "cell_type": "raw",
   "id": "b5e310a9",
   "metadata": {},
   "source": [
    "Exercise 10: Remove duplicates from a list and create a tuple and find the minimum and maximum number\n",
    "Given:\n",
    "\n",
    "sample_list = [87, 45, 41, 65, 94, 41, 99, 94]\n",
    "Expected Outcome:\n",
    "\n",
    "unique items [87, 45, 41, 65, 99]\n",
    "tuple (87, 45, 41, 65, 99)\n",
    "min: 41\n",
    "max: 99"
   ]
  },
  {
   "cell_type": "code",
   "execution_count": 47,
   "id": "46e4910c",
   "metadata": {
    "ExecuteTime": {
     "end_time": "2022-06-05T22:35:21.670912Z",
     "start_time": "2022-06-05T22:35:21.662934Z"
    }
   },
   "outputs": [
    {
     "name": "stdout",
     "output_type": "stream",
     "text": [
      "Unique items :  [65, 99, 41, 45, 87, 94]\n",
      "tuple :  (65, 99, 41, 45, 87, 94)\n",
      "min :  41\n",
      "max :  99\n"
     ]
    }
   ],
   "source": [
    "sample_list = [87, 45, 41, 65, 94, 41, 99, 94]\n",
    "sample_list = list(set(sample_list))\n",
    "print(\"Unique items : \", sample_list)\n",
    "\n",
    "sample_tuple = tuple(sample_list)\n",
    "print(\"tuple : \", sample_tuple)\n",
    "\n",
    "print(\"min : \", min(sample_tuple))\n",
    "print(\"max : \", max(sample_tuple))"
   ]
  },
  {
   "cell_type": "code",
   "execution_count": null,
   "id": "12a9ce24",
   "metadata": {},
   "outputs": [],
   "source": []
  },
  {
   "cell_type": "markdown",
   "id": "e001df23",
   "metadata": {},
   "source": [
    "## Python List Exercise"
   ]
  },
  {
   "cell_type": "code",
   "execution_count": null,
   "id": "70eda6e1",
   "metadata": {},
   "outputs": [],
   "source": []
  },
  {
   "cell_type": "code",
   "execution_count": null,
   "id": "ac04f37e",
   "metadata": {},
   "outputs": [],
   "source": []
  },
  {
   "cell_type": "code",
   "execution_count": null,
   "id": "d4bd364c",
   "metadata": {},
   "outputs": [],
   "source": []
  },
  {
   "cell_type": "code",
   "execution_count": null,
   "id": "e24e0569",
   "metadata": {},
   "outputs": [],
   "source": []
  },
  {
   "cell_type": "code",
   "execution_count": 62,
   "id": "7c6ef68d",
   "metadata": {
    "ExecuteTime": {
     "end_time": "2022-06-03T19:26:26.268452Z",
     "start_time": "2022-06-03T19:26:26.253456Z"
    }
   },
   "outputs": [],
   "source": []
  },
  {
   "cell_type": "markdown",
   "id": "5ae0b235",
   "metadata": {
    "ExecuteTime": {
     "end_time": "2022-06-03T19:26:26.284374Z",
     "start_time": "2022-06-03T19:26:26.269413Z"
    }
   },
   "source": [
    "## Python Dictionary Exercise"
   ]
  },
  {
   "cell_type": "markdown",
   "id": "1d54d0a8",
   "metadata": {
    "ExecuteTime": {
     "end_time": "2022-06-03T19:26:26.300330Z",
     "start_time": "2022-06-03T19:26:26.286368Z"
    }
   },
   "source": [
    "## Python Set Exercise"
   ]
  },
  {
   "cell_type": "markdown",
   "id": "a0a866f0",
   "metadata": {
    "ExecuteTime": {
     "end_time": "2022-06-03T19:26:26.316320Z",
     "start_time": "2022-06-03T19:26:26.301328Z"
    }
   },
   "source": [
    "## Python Tuple Exercise"
   ]
  },
  {
   "cell_type": "markdown",
   "id": "41b0adfc",
   "metadata": {
    "ExecuteTime": {
     "end_time": "2022-06-03T19:26:26.331284Z",
     "start_time": "2022-06-03T19:26:26.317287Z"
    }
   },
   "source": [
    "## Python Date and Time Exercise"
   ]
  },
  {
   "cell_type": "markdown",
   "id": "4cb57023",
   "metadata": {
    "ExecuteTime": {
     "end_time": "2022-06-03T19:26:26.347239Z",
     "start_time": "2022-06-03T19:26:26.333278Z"
    }
   },
   "source": [
    "## Python OOP Exercise"
   ]
  },
  {
   "cell_type": "markdown",
   "id": "159a1569",
   "metadata": {
    "ExecuteTime": {
     "end_time": "2022-06-03T19:26:26.363196Z",
     "start_time": "2022-06-03T19:26:26.348202Z"
    }
   },
   "source": [
    "## Python JSON Exercise"
   ]
  },
  {
   "cell_type": "markdown",
   "id": "b4be04b4",
   "metadata": {
    "ExecuteTime": {
     "end_time": "2022-06-03T19:26:26.379155Z",
     "start_time": "2022-06-03T19:26:26.365157Z"
    }
   },
   "source": [
    "## Python NumPy Exercise"
   ]
  },
  {
   "cell_type": "markdown",
   "id": "4de45438",
   "metadata": {
    "ExecuteTime": {
     "end_time": "2022-06-03T19:26:26.395078Z",
     "start_time": "2022-06-03T19:26:26.380150Z"
    }
   },
   "source": [
    "## Python Pandas Exercise"
   ]
  },
  {
   "cell_type": "markdown",
   "id": "e4efe5ca",
   "metadata": {
    "ExecuteTime": {
     "end_time": "2022-06-03T19:26:26.411068Z",
     "start_time": "2022-06-03T19:26:26.396106Z"
    }
   },
   "source": [
    "## Python Matplotlib Exercise"
   ]
  },
  {
   "cell_type": "markdown",
   "id": "1656093c",
   "metadata": {
    "ExecuteTime": {
     "end_time": "2022-06-03T19:26:26.426028Z",
     "start_time": "2022-06-03T19:26:26.412032Z"
    }
   },
   "source": [
    "## Random Data Generation Exercise"
   ]
  },
  {
   "cell_type": "markdown",
   "id": "59365b56",
   "metadata": {
    "ExecuteTime": {
     "end_time": "2022-06-03T19:26:26.441987Z",
     "start_time": "2022-06-03T19:26:26.426992Z"
    }
   },
   "source": [
    "## Python Database Exercise"
   ]
  },
  {
   "cell_type": "markdown",
   "id": "bffadbb5",
   "metadata": {
    "ExecuteTime": {
     "end_time": "2022-06-03T19:26:26.457941Z",
     "start_time": "2022-06-03T19:26:26.443947Z"
    }
   },
   "source": [
    "## Exercises for Intermediate developers"
   ]
  },
  {
   "cell_type": "code",
   "execution_count": null,
   "id": "e408e737",
   "metadata": {},
   "outputs": [],
   "source": []
  }
 ],
 "metadata": {
  "interpreter": {
   "hash": "17c62906d7bd77cfd5b8fedc5f95b9164f3d58594cc44aa702975ae5d59fa7d5"
  },
  "kernelspec": {
   "display_name": "Python 3 (ipykernel)",
   "language": "python",
   "name": "python3"
  },
  "language_info": {
   "codemirror_mode": {
    "name": "ipython",
    "version": 3
   },
   "file_extension": ".py",
   "mimetype": "text/x-python",
   "name": "python",
   "nbconvert_exporter": "python",
   "pygments_lexer": "ipython3",
   "version": "3.8.8"
  },
  "toc": {
   "base_numbering": 1,
   "nav_menu": {},
   "number_sections": true,
   "sideBar": true,
   "skip_h1_title": false,
   "title_cell": "Table of Contents",
   "title_sidebar": "Contents",
   "toc_cell": false,
   "toc_position": {},
   "toc_section_display": true,
   "toc_window_display": false
  },
  "varInspector": {
   "cols": {
    "lenName": 16,
    "lenType": 16,
    "lenVar": 40
   },
   "kernels_config": {
    "python": {
     "delete_cmd_postfix": "",
     "delete_cmd_prefix": "del ",
     "library": "var_list.py",
     "varRefreshCmd": "print(var_dic_list())"
    },
    "r": {
     "delete_cmd_postfix": ") ",
     "delete_cmd_prefix": "rm(",
     "library": "var_list.r",
     "varRefreshCmd": "cat(var_dic_list()) "
    }
   },
   "types_to_exclude": [
    "module",
    "function",
    "builtin_function_or_method",
    "instance",
    "_Feature"
   ],
   "window_display": false
  }
 },
 "nbformat": 4,
 "nbformat_minor": 5
}
