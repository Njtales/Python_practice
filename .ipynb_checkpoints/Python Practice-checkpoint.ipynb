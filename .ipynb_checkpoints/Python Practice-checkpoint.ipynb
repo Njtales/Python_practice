{
 "cells": [
  {
   "cell_type": "markdown",
   "id": "32961771",
   "metadata": {
    "ExecuteTime": {
     "end_time": "2022-03-24T20:48:31.057252Z",
     "start_time": "2022-03-24T20:48:31.042250Z"
    }
   },
   "source": [
    "https://pynative.com/python-basic-exercise-for-beginners/"
   ]
  },
  {
   "cell_type": "markdown",
   "id": "a6e09b90",
   "metadata": {},
   "source": [
    "## Basic Exercise for Beginners"
   ]
  },
  {
   "cell_type": "markdown",
   "id": "9271e3a3",
   "metadata": {
    "ExecuteTime": {
     "end_time": "2022-03-21T21:50:58.644251Z",
     "start_time": "2022-03-21T21:50:58.627263Z"
    }
   },
   "source": [
    "Exercise 1: Calculate the multiplication and sum of two numbers\n",
    "Given two integer numbers return their product only if the product is greater than 1000, else return their sum."
   ]
  },
  {
   "cell_type": "code",
   "execution_count": 23,
   "id": "162fb1bc",
   "metadata": {
    "ExecuteTime": {
     "end_time": "2022-06-03T19:25:07.496900Z",
     "start_time": "2022-06-03T19:25:07.475141Z"
    }
   },
   "outputs": [
    {
     "name": "stdout",
     "output_type": "stream",
     "text": [
      "according to que, product of 40 and 50 is : 90\n",
      "according to que, product of 40 and 2 is : 80\n"
     ]
    }
   ],
   "source": [
    "def mult_2(n1, n2):\n",
    "    product = n1*n2\n",
    "    if product <= 1000:\n",
    "        return product\n",
    "    else:\n",
    "        return n1+n2\n",
    "    \n",
    "print(\"according to que, product of 40 and 50 is :\",mult_2(40,50))\n",
    "print(\"according to que, product of 40 and 2 is :\",mult_2(40,2))"
   ]
  },
  {
   "cell_type": "code",
   "execution_count": null,
   "id": "01156d89",
   "metadata": {},
   "outputs": [],
   "source": []
  },
  {
   "cell_type": "markdown",
   "id": "bdbc8762",
   "metadata": {
    "ExecuteTime": {
     "end_time": "2022-03-24T20:16:01.417051Z",
     "start_time": "2022-03-24T20:16:01.401131Z"
    }
   },
   "source": [
    "Exercise 2: Print the sum of the current number and the previous number\n",
    "Write a program to iterate the first 10 numbers and in each iteration, print the sum of the current and previous number."
   ]
  },
  {
   "cell_type": "code",
   "execution_count": 24,
   "id": "825657f1",
   "metadata": {
    "ExecuteTime": {
     "end_time": "2022-06-03T19:25:07.512082Z",
     "start_time": "2022-06-03T19:25:07.498119Z"
    },
    "scrolled": true
   },
   "outputs": [
    {
     "name": "stdout",
     "output_type": "stream",
     "text": [
      "Current num :  0  previous num : 0  sum is :  0\n",
      "Current num :  1  previous num : 0  sum is :  1\n",
      "Current num :  2  previous num : 1  sum is :  3\n",
      "Current num :  3  previous num : 2  sum is :  5\n",
      "Current num :  4  previous num : 3  sum is :  7\n",
      "Current num :  5  previous num : 4  sum is :  9\n",
      "Current num :  6  previous num : 5  sum is :  11\n",
      "Current num :  7  previous num : 6  sum is :  13\n",
      "Current num :  8  previous num : 7  sum is :  15\n",
      "Current num :  9  previous num : 8  sum is :  17\n"
     ]
    }
   ],
   "source": [
    "def print_10():\n",
    "    pnum = 0\n",
    "    for i in range(10):\n",
    "        print(\"Current num : \",i,\" previous num :\",pnum,\" sum is : \",i+pnum)\n",
    "        pnum = i\n",
    "print_10()"
   ]
  },
  {
   "cell_type": "code",
   "execution_count": null,
   "id": "23404d48",
   "metadata": {},
   "outputs": [],
   "source": []
  },
  {
   "cell_type": "markdown",
   "id": "e308f9bc",
   "metadata": {
    "ExecuteTime": {
     "end_time": "2022-03-24T20:28:59.619040Z",
     "start_time": "2022-03-24T20:28:59.600090Z"
    }
   },
   "source": [
    "Exercise 3: Print characters from a string that are present at an even index number\n",
    "Write a program to accept a string from the user and display characters that are present at an even index number."
   ]
  },
  {
   "cell_type": "code",
   "execution_count": 25,
   "id": "406f886f",
   "metadata": {
    "ExecuteTime": {
     "end_time": "2022-06-03T19:25:23.970568Z",
     "start_time": "2022-06-03T19:25:07.513079Z"
    }
   },
   "outputs": [
    {
     "name": "stdout",
     "output_type": "stream",
     "text": [
      "Enter the string : poiuytre\n",
      "p\n",
      "i\n",
      "y\n",
      "r\n"
     ]
    }
   ],
   "source": [
    "def display_even_char(string):\n",
    "    for i in range(0,len(string),2):\n",
    "        print(string[i])\n",
    "string = input(\"Enter the string : \")\n",
    "display_even_char(string)"
   ]
  },
  {
   "cell_type": "code",
   "execution_count": null,
   "id": "91c2e82c",
   "metadata": {},
   "outputs": [],
   "source": []
  },
  {
   "cell_type": "markdown",
   "id": "ec964afa",
   "metadata": {
    "ExecuteTime": {
     "end_time": "2022-03-24T20:40:11.994832Z",
     "start_time": "2022-03-24T20:40:11.990809Z"
    }
   },
   "source": [
    "Exercise 4: Remove first n characters from a string\n",
    "Write a program to remove characters from a string starting from zero up to n and return a new string."
   ]
  },
  {
   "cell_type": "code",
   "execution_count": 26,
   "id": "bda7228a",
   "metadata": {
    "ExecuteTime": {
     "end_time": "2022-06-03T19:25:30.533693Z",
     "start_time": "2022-06-03T19:25:23.971559Z"
    }
   },
   "outputs": [
    {
     "name": "stdout",
     "output_type": "stream",
     "text": [
      "Enter the string (give a space) and n to split : hjghfgdfsdas 3\n",
      "hfgdfsdas\n"
     ]
    }
   ],
   "source": [
    "def remove_char(string,n):\n",
    "    return(string[int(n):])\n",
    "\n",
    "string,n = input(\"Enter the string (give a space) and n to split : \").split()\n",
    "print(remove_char(string,n))"
   ]
  },
  {
   "cell_type": "code",
   "execution_count": null,
   "id": "cb99f3ad",
   "metadata": {},
   "outputs": [],
   "source": []
  },
  {
   "cell_type": "markdown",
   "id": "9d651e39",
   "metadata": {},
   "source": [
    "Exercise 5: Check if the first and last number of a list is the same\n",
    "Write a function to return True if the first and last number of a given list is same. If numbers are different then return False."
   ]
  },
  {
   "cell_type": "code",
   "execution_count": 27,
   "id": "7f7596b8",
   "metadata": {
    "ExecuteTime": {
     "end_time": "2022-06-03T19:25:30.549631Z",
     "start_time": "2022-06-03T19:25:30.534697Z"
    }
   },
   "outputs": [
    {
     "name": "stdout",
     "output_type": "stream",
     "text": [
      "True\n",
      "False\n"
     ]
    }
   ],
   "source": [
    "def is_same(li):\n",
    "    if li[0]==li[-1]:\n",
    "        return True\n",
    "    else:\n",
    "        return False\n",
    "li = [10, 20, 30, 40, 10]\n",
    "print(is_same(li))\n",
    "lis = [75, 65, 35, 75, 30]\n",
    "print(is_same(lis))\n"
   ]
  },
  {
   "cell_type": "code",
   "execution_count": null,
   "id": "50e1e22d",
   "metadata": {},
   "outputs": [],
   "source": []
  },
  {
   "cell_type": "markdown",
   "id": "81de7389",
   "metadata": {},
   "source": [
    "Exercise 6: Display numbers divisible by 5 from a list\n",
    "Iterate the given list of numbers and print only those numbers which are divisible by 5"
   ]
  },
  {
   "cell_type": "code",
   "execution_count": 28,
   "id": "682333c7",
   "metadata": {
    "ExecuteTime": {
     "end_time": "2022-06-03T19:25:30.564596Z",
     "start_time": "2022-06-03T19:25:30.550626Z"
    }
   },
   "outputs": [
    {
     "name": "stdout",
     "output_type": "stream",
     "text": [
      "10\n",
      "20\n",
      "55\n"
     ]
    }
   ],
   "source": [
    "def div_5(li):\n",
    "    for i in li:\n",
    "        if i % 5 == 0:\n",
    "            print(i)\n",
    "lis = [10, 20, 33, 46, 55]\n",
    "div_5(lis)"
   ]
  },
  {
   "cell_type": "code",
   "execution_count": null,
   "id": "3dd57c0d",
   "metadata": {},
   "outputs": [],
   "source": []
  },
  {
   "cell_type": "markdown",
   "id": "cb4ebb27",
   "metadata": {},
   "source": [
    "Exercise 7: Return the count of a given substring from a string\n",
    "Write a program to find how many times substring “Emma” appears in the given string."
   ]
  },
  {
   "cell_type": "code",
   "execution_count": 29,
   "id": "685385d6",
   "metadata": {
    "ExecuteTime": {
     "end_time": "2022-06-03T19:25:38.205412Z",
     "start_time": "2022-06-03T19:25:30.565639Z"
    }
   },
   "outputs": [
    {
     "name": "stdout",
     "output_type": "stream",
     "text": [
      "Enter the string to find 'emma' : jthgrfedwemmajhgref\n",
      "1\n"
     ]
    }
   ],
   "source": [
    "def count_emma(s):\n",
    "    return(s.count('emma'))\n",
    "string = input(r\"Enter the string to find 'emma' : \")\n",
    "print(count_emma(string))"
   ]
  },
  {
   "cell_type": "code",
   "execution_count": null,
   "id": "eb1eaa70",
   "metadata": {},
   "outputs": [],
   "source": []
  },
  {
   "cell_type": "raw",
   "id": "7fe2d247",
   "metadata": {},
   "source": [
    "Exercise 8: Print the following pattern\n",
    "1 \n",
    "2 2 \n",
    "3 3 3 \n",
    "4 4 4 4 \n",
    "5 5 5 5 5"
   ]
  },
  {
   "cell_type": "code",
   "execution_count": 30,
   "id": "b96c107d",
   "metadata": {
    "ExecuteTime": {
     "end_time": "2022-06-03T19:25:38.221332Z",
     "start_time": "2022-06-03T19:25:38.206376Z"
    }
   },
   "outputs": [
    {
     "name": "stdout",
     "output_type": "stream",
     "text": [
      "\n",
      "1 \n",
      "2 2 \n",
      "3 3 3 \n",
      "4 4 4 4 \n",
      "5 5 5 5 5 "
     ]
    }
   ],
   "source": [
    "for i in range(1,6):\n",
    "    print()\n",
    "    for j in range(i):\n",
    "        print(i,end=' ')"
   ]
  },
  {
   "cell_type": "code",
   "execution_count": null,
   "id": "38b54b69",
   "metadata": {},
   "outputs": [],
   "source": []
  },
  {
   "cell_type": "markdown",
   "id": "3569ccec",
   "metadata": {},
   "source": [
    "Exercise 9: Check Palindrome Number\n",
    "Write a program to check if the given number is a palindrome number.\n",
    "\n",
    "A palindrome number is a number that is same after reverse. For example 545, is the palindrome numbers"
   ]
  },
  {
   "cell_type": "code",
   "execution_count": 31,
   "id": "a8c401eb",
   "metadata": {
    "ExecuteTime": {
     "end_time": "2022-06-03T19:25:42.233726Z",
     "start_time": "2022-06-03T19:25:38.222363Z"
    }
   },
   "outputs": [
    {
     "name": "stdout",
     "output_type": "stream",
     "text": [
      "enter string to check if palindrome : qwertytrewq\n",
      "True\n"
     ]
    }
   ],
   "source": [
    "def if_pal(s):\n",
    "    return s == s[::-1]\n",
    "print(if_pal(input('enter string to check if palindrome : ')))"
   ]
  },
  {
   "cell_type": "code",
   "execution_count": null,
   "id": "0c7a4172",
   "metadata": {},
   "outputs": [],
   "source": []
  },
  {
   "cell_type": "markdown",
   "id": "2e7f959b",
   "metadata": {},
   "source": [
    "Exercise 10: Create a new list from a two list using the following condition.\n",
    "\n",
    "Given a two list of numbers, write a program to create a new list such that the new list should contain odd numbers from the first list and even numbers from the second list"
   ]
  },
  {
   "cell_type": "code",
   "execution_count": 32,
   "id": "0a6c88c8",
   "metadata": {
    "ExecuteTime": {
     "end_time": "2022-06-03T19:25:42.249683Z",
     "start_time": "2022-06-03T19:25:42.237718Z"
    },
    "scrolled": true
   },
   "outputs": [
    {
     "data": {
      "text/plain": [
       "[25, 35, 40, 60, 90]"
      ]
     },
     "execution_count": 32,
     "metadata": {},
     "output_type": "execute_result"
    }
   ],
   "source": [
    "to_odd = [10, 20, 25, 30, 35]\n",
    "to_even = [40, 45, 60, 75, 90]\n",
    "\n",
    "def merglist(odd,even):\n",
    "    newlist = []\n",
    "    for i in odd:\n",
    "        if i % 2 != 0:\n",
    "            newlist.append(i)\n",
    "    for i in even:\n",
    "        if i % 2 == 0:\n",
    "            newlist.append(i)\n",
    "    return newlist\n",
    "\n",
    "merglist(to_odd,to_even)"
   ]
  },
  {
   "cell_type": "code",
   "execution_count": null,
   "id": "ba25a237",
   "metadata": {},
   "outputs": [],
   "source": []
  },
  {
   "cell_type": "markdown",
   "id": "c219bb20",
   "metadata": {},
   "source": [
    "Exercise 11: Write a Program to extract each digit from an integer in the reverse order.\n",
    "For example, If the given int is 7536, the output shall be “6 3 5 7“, with a space separating the digits."
   ]
  },
  {
   "cell_type": "code",
   "execution_count": 33,
   "id": "16ee7b14",
   "metadata": {
    "ExecuteTime": {
     "end_time": "2022-06-03T19:25:44.802060Z",
     "start_time": "2022-06-03T19:25:42.250681Z"
    }
   },
   "outputs": [
    {
     "name": "stdout",
     "output_type": "stream",
     "text": [
      "enter the integer : 5\n",
      "5 "
     ]
    }
   ],
   "source": [
    "x = input('enter the integer : ')\n",
    "# print(x)\n",
    "for i in range(len(x)-1,-1,-1):\n",
    "    print(x[i],end=' ')"
   ]
  },
  {
   "cell_type": "code",
   "execution_count": null,
   "id": "c5e265e0",
   "metadata": {},
   "outputs": [],
   "source": []
  },
  {
   "cell_type": "raw",
   "id": "8f219a91",
   "metadata": {},
   "source": [
    "Exercise 12: Calculate income tax for the given income by adhering to the below rules\n",
    "Taxable Income\tRate (in %)\n",
    "First $10,000\t0\n",
    "Next $10,000\t10\n",
    "The remaining\t20"
   ]
  },
  {
   "cell_type": "code",
   "execution_count": 34,
   "id": "55d4899e",
   "metadata": {
    "ExecuteTime": {
     "end_time": "2022-06-03T19:25:49.392535Z",
     "start_time": "2022-06-03T19:25:44.803025Z"
    }
   },
   "outputs": [
    {
     "name": "stdout",
     "output_type": "stream",
     "text": [
      "Enter the income : 23000\n",
      "Payable tax is :  24600.0\n"
     ]
    }
   ],
   "source": [
    "x = int(input('Enter the income : '))\n",
    "def cal_incometax(x):\n",
    "    tax = 0\n",
    "    if x <= 10000:\n",
    "        tax = x * 0\n",
    "        \n",
    "    elif x <= 20000:\n",
    "        x = x - 10000\n",
    "        tax = x * 0.1\n",
    "    else:\n",
    "        tax = 10000 * 0.1\n",
    "        x = x - 20000\n",
    "        tax += x * 0.2\n",
    "    return tax\n",
    "print('Payable tax is : ',x+cal_incometax(x))"
   ]
  },
  {
   "cell_type": "code",
   "execution_count": null,
   "id": "08b41202",
   "metadata": {},
   "outputs": [],
   "source": []
  },
  {
   "cell_type": "raw",
   "id": "67cc10fd",
   "metadata": {},
   "source": [
    "Exercise 13: Print multiplication table form 1 to 10\n",
    "Expected Output:\n",
    "\n",
    "1  2 3 4 5 6 7 8 9 10 \t\t\n",
    "2  4 6 8 10 12 14 16 18 20 \t\t\n",
    "3  6 9 12 15 18 21 24 27 30 \t\t\n",
    "4  8 12 16 20 24 28 32 36 40 \t\t\n",
    "5  10 15 20 25 30 35 40 45 50 \t\t\n",
    "6  12 18 24 30 36 42 48 54 60 \t\t\n",
    "7  14 21 28 35 42 49 56 63 70 \t\t\n",
    "8  16 24 32 40 48 56 64 72 80 \t\t\n",
    "9  18 27 36 45 54 63 72 81 90 \t\t\n",
    "10 20 30 40 50 60 70 80 90 100 "
   ]
  },
  {
   "cell_type": "code",
   "execution_count": 35,
   "id": "6034dfc6",
   "metadata": {
    "ExecuteTime": {
     "end_time": "2022-06-03T19:25:49.407494Z",
     "start_time": "2022-06-03T19:25:49.394530Z"
    }
   },
   "outputs": [
    {
     "name": "stdout",
     "output_type": "stream",
     "text": [
      "\n",
      "1 2 3 4 5 6 7 8 9 10 \n",
      "2 4 6 8 10 12 14 16 18 20 \n",
      "3 6 9 12 15 18 21 24 27 30 \n",
      "4 8 12 16 20 24 28 32 36 40 \n",
      "5 10 15 20 25 30 35 40 45 50 \n",
      "6 12 18 24 30 36 42 48 54 60 \n",
      "7 14 21 28 35 42 49 56 63 70 \n",
      "8 16 24 32 40 48 56 64 72 80 \n",
      "9 18 27 36 45 54 63 72 81 90 \n",
      "10 20 30 40 50 60 70 80 90 100 "
     ]
    }
   ],
   "source": [
    "for i in range(1,11):\n",
    "    print()\n",
    "    for j in range(1,11):\n",
    "        print(i*j,end = ' ')"
   ]
  },
  {
   "cell_type": "code",
   "execution_count": null,
   "id": "2e403aa7",
   "metadata": {},
   "outputs": [],
   "source": []
  },
  {
   "cell_type": "raw",
   "id": "d0e9c5c4",
   "metadata": {},
   "source": [
    "Exercise 14: Print downward Half-Pyramid Pattern with Star (asterisk)\n",
    "* * * * *  \n",
    "* * * *  \n",
    "* * *  \n",
    "* *  \n",
    "*"
   ]
  },
  {
   "cell_type": "code",
   "execution_count": 36,
   "id": "bb1b1f84",
   "metadata": {
    "ExecuteTime": {
     "end_time": "2022-06-03T19:25:49.423454Z",
     "start_time": "2022-06-03T19:25:49.408492Z"
    }
   },
   "outputs": [
    {
     "name": "stdout",
     "output_type": "stream",
     "text": [
      "\n",
      "* * * * * \n",
      "* * * * \n",
      "* * * \n",
      "* * \n",
      "* \n"
     ]
    }
   ],
   "source": [
    "for i in range(5,-1,-1):\n",
    "    print()\n",
    "    for j in range(i):\n",
    "        print('*',end=' ')"
   ]
  },
  {
   "cell_type": "code",
   "execution_count": null,
   "id": "0ea04683",
   "metadata": {},
   "outputs": [],
   "source": []
  },
  {
   "cell_type": "markdown",
   "id": "d8f68007",
   "metadata": {},
   "source": [
    "Exercise 15: Write a function called exponent(base, exp) that returns an int value of base raises to the power of exp.\n",
    "Note here exp is a non-negative integer, and the base is an integer."
   ]
  },
  {
   "cell_type": "code",
   "execution_count": 37,
   "id": "fa9afa48",
   "metadata": {
    "ExecuteTime": {
     "end_time": "2022-06-03T19:25:53.116265Z",
     "start_time": "2022-06-03T19:25:49.424449Z"
    }
   },
   "outputs": [
    {
     "name": "stdout",
     "output_type": "stream",
     "text": [
      "enter the base and exp : 5 2\n",
      "5  raises to the power of  2 :  25\n"
     ]
    }
   ],
   "source": [
    "def exponent(base, exp):\n",
    "    base = int(base)\n",
    "    exp = abs(int(exp))\n",
    "    return base**exp\n",
    "b,e = input('enter the base and exp : ').split()\n",
    "print(b,' raises to the power of ',e,': ',exponent(b,e))"
   ]
  },
  {
   "cell_type": "code",
   "execution_count": null,
   "id": "4b054da0",
   "metadata": {},
   "outputs": [],
   "source": []
  },
  {
   "cell_type": "code",
   "execution_count": null,
   "id": "56cfcaa2",
   "metadata": {},
   "outputs": [],
   "source": []
  },
  {
   "cell_type": "markdown",
   "id": "bdc04b27",
   "metadata": {},
   "source": [
    "## Python Input and Output Exercise"
   ]
  },
  {
   "cell_type": "markdown",
   "id": "bda563a7",
   "metadata": {},
   "source": [
    "Exercise 1: Accept numbers from a user\n",
    "Write a program to accept two numbers from the user and calculate multiplication"
   ]
  },
  {
   "cell_type": "code",
   "execution_count": 38,
   "id": "9ce25b96",
   "metadata": {
    "ExecuteTime": {
     "end_time": "2022-06-03T19:26:00.774429Z",
     "start_time": "2022-06-03T19:25:53.116560Z"
    }
   },
   "outputs": [
    {
     "name": "stdout",
     "output_type": "stream",
     "text": [
      "Enter a number : 23\n",
      "Enter a number : 98\n",
      "Multiplication is :  2254\n"
     ]
    }
   ],
   "source": [
    "num1 = int(input('Enter a number : '))\n",
    "num2 = int(input('Enter a number : '))\n",
    "print('Multiplication is : ',num1*num2)"
   ]
  },
  {
   "cell_type": "code",
   "execution_count": null,
   "id": "31259421",
   "metadata": {},
   "outputs": [],
   "source": []
  },
  {
   "cell_type": "raw",
   "id": "bada1e74",
   "metadata": {},
   "source": [
    "Exercise 2: Display three string “Name”, “Is”, “James” as “Name**Is**James”\n",
    "Use the print() function to format the given words in the mentioned format. Display the ** separator between each string."
   ]
  },
  {
   "cell_type": "code",
   "execution_count": 39,
   "id": "949465ef",
   "metadata": {
    "ExecuteTime": {
     "end_time": "2022-06-03T19:26:00.790361Z",
     "start_time": "2022-06-03T19:26:00.775409Z"
    }
   },
   "outputs": [
    {
     "name": "stdout",
     "output_type": "stream",
     "text": [
      "Name**Is**James\n"
     ]
    }
   ],
   "source": [
    "print('Name','Is','James',sep='**')"
   ]
  },
  {
   "cell_type": "code",
   "execution_count": null,
   "id": "32d69900",
   "metadata": {},
   "outputs": [],
   "source": []
  },
  {
   "cell_type": "markdown",
   "id": "b3f6da1f",
   "metadata": {},
   "source": [
    "Exercise 3: Convert Decimal number to octal using print() output formatting"
   ]
  },
  {
   "cell_type": "code",
   "execution_count": 40,
   "id": "0be6430d",
   "metadata": {
    "ExecuteTime": {
     "end_time": "2022-06-03T19:26:00.806318Z",
     "start_time": "2022-06-03T19:26:00.792355Z"
    }
   },
   "outputs": [
    {
     "name": "stdout",
     "output_type": "stream",
     "text": [
      "10\n"
     ]
    }
   ],
   "source": [
    "num = 8\n",
    "print('%o' % num)"
   ]
  },
  {
   "cell_type": "code",
   "execution_count": null,
   "id": "0e755fb5",
   "metadata": {},
   "outputs": [],
   "source": []
  },
  {
   "cell_type": "markdown",
   "id": "f095a633",
   "metadata": {},
   "source": [
    "Exercise 4: Display float number with 2 decimal places using print()"
   ]
  },
  {
   "cell_type": "code",
   "execution_count": 41,
   "id": "350fe547",
   "metadata": {
    "ExecuteTime": {
     "end_time": "2022-06-03T19:26:00.822276Z",
     "start_time": "2022-06-03T19:26:00.807315Z"
    },
    "scrolled": true
   },
   "outputs": [
    {
     "name": "stdout",
     "output_type": "stream",
     "text": [
      "458.54\n"
     ]
    }
   ],
   "source": [
    "num = 458.541315\n",
    "print(round(num,2))"
   ]
  },
  {
   "cell_type": "code",
   "execution_count": null,
   "id": "744b1879",
   "metadata": {},
   "outputs": [],
   "source": []
  },
  {
   "cell_type": "markdown",
   "id": "4b4b3fd6",
   "metadata": {},
   "source": [
    "Exercise 5: Accept a list of 5 float numbers as an input from the user"
   ]
  },
  {
   "cell_type": "code",
   "execution_count": 42,
   "id": "b6654b53",
   "metadata": {
    "ExecuteTime": {
     "end_time": "2022-06-03T19:26:13.832631Z",
     "start_time": "2022-06-03T19:26:00.823273Z"
    }
   },
   "outputs": [
    {
     "name": "stdout",
     "output_type": "stream",
     "text": [
      "Enter number at location 0 :\n",
      "3.1\n",
      "Enter number at location 1 :\n",
      "0.5\n",
      "Enter number at location 2 :\n",
      "0.8\n",
      "Enter number at location 3 :\n",
      "9.3\n",
      "Enter number at location 4 :\n",
      ".56\n",
      "User List: [3.1, 0.5, 0.8, 9.3, 0.56]\n"
     ]
    }
   ],
   "source": [
    "num = []\n",
    "\n",
    "for i in range(0, 5):\n",
    "    print(\"Enter number at location\", i, \":\")\n",
    "    item = float(input())\n",
    "    num.append(item)\n",
    "\n",
    "print(\"User List:\", num)"
   ]
  },
  {
   "cell_type": "code",
   "execution_count": null,
   "id": "0e175058",
   "metadata": {},
   "outputs": [],
   "source": []
  },
  {
   "cell_type": "markdown",
   "id": "1b1313c0",
   "metadata": {},
   "source": [
    "Exercise 6: Write all content of a given file into a new file by skipping line number 5"
   ]
  },
  {
   "cell_type": "code",
   "execution_count": 43,
   "id": "a0757e8f",
   "metadata": {
    "ExecuteTime": {
     "end_time": "2022-06-03T19:26:13.848556Z",
     "start_time": "2022-06-03T19:26:13.834599Z"
    }
   },
   "outputs": [],
   "source": [
    "with open(\"I-O exer-6 txt.txt\", \"r\") as fp:\n",
    "    lines = fp.readlines()\n",
    "\n",
    "with open(\"I-O exer-6 new_file.txt\", \"w\") as fp:\n",
    "    count = 0\n",
    "    for line in lines:\n",
    "        if count == 4:\n",
    "            count += 1\n",
    "            continue\n",
    "        else:\n",
    "            fp.write(line)\n",
    "        count += 1"
   ]
  },
  {
   "cell_type": "code",
   "execution_count": null,
   "id": "4bc83755",
   "metadata": {},
   "outputs": [],
   "source": []
  },
  {
   "cell_type": "markdown",
   "id": "95c43bb5",
   "metadata": {},
   "source": [
    "Exercise 7: Accept any three string from one input() call\n",
    "Write a program to take three names as input from a user in the single input() function call."
   ]
  },
  {
   "cell_type": "code",
   "execution_count": 44,
   "id": "12d5e54a",
   "metadata": {
    "ExecuteTime": {
     "end_time": "2022-06-03T19:26:22.286065Z",
     "start_time": "2022-06-03T19:26:13.849552Z"
    }
   },
   "outputs": [
    {
     "name": "stdout",
     "output_type": "stream",
     "text": [
      "Enter three names : trwe yterw hrge\n",
      "trwe\n",
      "yterw\n",
      "hrge\n"
     ]
    }
   ],
   "source": [
    "try:\n",
    "    name1, name2, name3 = input('Enter three names : ').split()\n",
    "except:\n",
    "    print('Enter 3 strings with spaced between')\n",
    "print(name1,name2,name3,sep='\\n')"
   ]
  },
  {
   "cell_type": "code",
   "execution_count": null,
   "id": "b2c3d2ac",
   "metadata": {},
   "outputs": [],
   "source": []
  },
  {
   "cell_type": "raw",
   "id": "18a8f014",
   "metadata": {},
   "source": [
    "Exercise 8: Format variables using a string.format() method.\n",
    "Write a program to use string.format() method to format the following three variables as per the expected output.\n",
    "\n",
    "Given:\n",
    "\n",
    "totalMoney = 1000\n",
    "quantity = 3\n",
    "price = 450\n",
    "Expected Output:\n",
    "\n",
    "I have 1000 dollars so I can buy 3 football for 450.00 dollars."
   ]
  },
  {
   "cell_type": "code",
   "execution_count": 45,
   "id": "11f8bf63",
   "metadata": {
    "ExecuteTime": {
     "end_time": "2022-06-03T19:26:22.305078Z",
     "start_time": "2022-06-03T19:26:22.288060Z"
    }
   },
   "outputs": [
    {
     "name": "stdout",
     "output_type": "stream",
     "text": [
      "I have 1000 dollars so I can buy 3 football for 450.00 dollars.\n"
     ]
    }
   ],
   "source": [
    "totalMoney = 1000\n",
    "quantity = 3\n",
    "price = 450\n",
    "print('I have {0} dollars so I can buy {1} football for {2:.2f} dollars.'.format(totalMoney,quantity,(float(price))))"
   ]
  },
  {
   "cell_type": "code",
   "execution_count": null,
   "id": "bfb1cfb7",
   "metadata": {},
   "outputs": [],
   "source": []
  },
  {
   "cell_type": "markdown",
   "id": "8837e4fa",
   "metadata": {},
   "source": [
    "Exercise 9: Check file is empty or not\n",
    "Write a program to check if the given file is empty or not"
   ]
  },
  {
   "cell_type": "code",
   "execution_count": 46,
   "id": "5090012d",
   "metadata": {
    "ExecuteTime": {
     "end_time": "2022-06-03T19:26:22.321011Z",
     "start_time": "2022-06-03T19:26:22.306050Z"
    }
   },
   "outputs": [
    {
     "name": "stdout",
     "output_type": "stream",
     "text": [
      "not empty\n"
     ]
    }
   ],
   "source": [
    "import os\n",
    "size = os.stat(\"I-O exer-6 txt.txt\").st_size\n",
    "if size == 0:\n",
    "    print(\"file is empty\")\n",
    "else :\n",
    "    print(\"not empty\")"
   ]
  },
  {
   "cell_type": "code",
   "execution_count": null,
   "id": "d4e8bdf1",
   "metadata": {},
   "outputs": [],
   "source": []
  },
  {
   "cell_type": "markdown",
   "id": "2de181e6",
   "metadata": {},
   "source": [
    "Exercise 10: Read line number 4 from the following file"
   ]
  },
  {
   "cell_type": "code",
   "execution_count": 47,
   "id": "bd8b2285",
   "metadata": {
    "ExecuteTime": {
     "end_time": "2022-06-03T19:26:22.337030Z",
     "start_time": "2022-06-03T19:26:22.322008Z"
    }
   },
   "outputs": [
    {
     "name": "stdout",
     "output_type": "stream",
     "text": [
      "line4\n",
      "\n"
     ]
    }
   ],
   "source": [
    "with open(\"I-O exer-6 txt.txt\",\"r\") as fp:\n",
    "    lines = fp.readlines()\n",
    "    print(lines[3])"
   ]
  },
  {
   "cell_type": "code",
   "execution_count": null,
   "id": "14138d72",
   "metadata": {},
   "outputs": [],
   "source": []
  },
  {
   "cell_type": "markdown",
   "id": "ec00417d",
   "metadata": {},
   "source": [
    "## Python Loop Exercise"
   ]
  },
  {
   "cell_type": "markdown",
   "id": "cbb284a8",
   "metadata": {},
   "source": [
    "Exercise 1: Print First 10 natural numbers using while loop"
   ]
  },
  {
   "cell_type": "code",
   "execution_count": 48,
   "id": "e219e184",
   "metadata": {
    "ExecuteTime": {
     "end_time": "2022-06-03T19:26:22.352988Z",
     "start_time": "2022-06-03T19:26:22.337996Z"
    }
   },
   "outputs": [
    {
     "name": "stdout",
     "output_type": "stream",
     "text": [
      "1\n",
      "2\n",
      "3\n",
      "4\n",
      "5\n",
      "6\n",
      "7\n",
      "8\n",
      "9\n",
      "10\n"
     ]
    }
   ],
   "source": [
    "i = 1\n",
    "while i < 11:\n",
    "    print(i)\n",
    "    i += 1"
   ]
  },
  {
   "cell_type": "code",
   "execution_count": null,
   "id": "1aebc7db",
   "metadata": {},
   "outputs": [],
   "source": []
  },
  {
   "cell_type": "raw",
   "id": "75cdc6cb",
   "metadata": {},
   "source": [
    "Exercise 2: Print the following pattern\n",
    "Write a program to print the following number pattern using a loop.\n",
    "\n",
    "1 \n",
    "1 2 \n",
    "1 2 3 \n",
    "1 2 3 4 \n",
    "1 2 3 4 5"
   ]
  },
  {
   "cell_type": "code",
   "execution_count": 49,
   "id": "a93b1022",
   "metadata": {
    "ExecuteTime": {
     "end_time": "2022-06-03T19:26:22.367939Z",
     "start_time": "2022-06-03T19:26:22.353952Z"
    }
   },
   "outputs": [
    {
     "name": "stdout",
     "output_type": "stream",
     "text": [
      "\n",
      "1  \n",
      "1  2  \n",
      "1  2  3  \n",
      "1  2  3  4  \n",
      "1  2  3  4  5  "
     ]
    }
   ],
   "source": [
    "for i in range(1,6):\n",
    "    print()\n",
    "    for j in range(1,i+1):\n",
    "        print(j,' ',end='')"
   ]
  },
  {
   "cell_type": "code",
   "execution_count": null,
   "id": "1d2a6d70",
   "metadata": {},
   "outputs": [],
   "source": []
  },
  {
   "cell_type": "raw",
   "id": "b820b163",
   "metadata": {},
   "source": [
    "Exercise 3: Calculate the sum of all numbers from 1 to a given number\n",
    "Write a program to accept a number from a user and calculate the sum of all numbers from 1 to a given number\n",
    "\n",
    "For example, if the user entered 10 the output should be 55 (1+2+3+4+5+6+7+8+9+10)\n",
    "\n",
    "Expected Output:\n",
    "\n",
    "Enter number 10\n",
    "Sum is:  55"
   ]
  },
  {
   "cell_type": "code",
   "execution_count": 50,
   "id": "a56584fc",
   "metadata": {
    "ExecuteTime": {
     "end_time": "2022-06-03T19:26:24.617804Z",
     "start_time": "2022-06-03T19:26:22.372902Z"
    }
   },
   "outputs": [
    {
     "name": "stdout",
     "output_type": "stream",
     "text": [
      "Enter the number :534\n",
      "Sum is :  142845\n"
     ]
    }
   ],
   "source": [
    "n = int(input(\"Enter the number :\"))\n",
    "sum = 0\n",
    "for i in range(1,n+1):\n",
    "    sum += i\n",
    "print('Sum is : ',sum)"
   ]
  },
  {
   "cell_type": "code",
   "execution_count": null,
   "id": "c228997f",
   "metadata": {},
   "outputs": [],
   "source": []
  },
  {
   "cell_type": "raw",
   "id": "f39df1a4",
   "metadata": {},
   "source": [
    "Exercise 4: Write a program to print multiplication table of a given number\n",
    "For example, num = 2 so the output should be\n",
    "\n",
    "2\n",
    "4\n",
    "6\n",
    "8\n",
    "10\n",
    "12\n",
    "14\n",
    "16\n",
    "18\n",
    "20"
   ]
  },
  {
   "cell_type": "code",
   "execution_count": 51,
   "id": "693d280a",
   "metadata": {
    "ExecuteTime": {
     "end_time": "2022-06-03T19:26:26.094915Z",
     "start_time": "2022-06-03T19:26:24.619770Z"
    }
   },
   "outputs": [
    {
     "name": "stdout",
     "output_type": "stream",
     "text": [
      "Enter the number : 243\n",
      "243\n",
      "486\n",
      "729\n",
      "972\n",
      "1215\n",
      "1458\n",
      "1701\n",
      "1944\n",
      "2187\n",
      "2430\n"
     ]
    }
   ],
   "source": [
    "n = int(input(\"Enter the number : \"))\n",
    "for i in range(1,11):\n",
    "    print(i*n)"
   ]
  },
  {
   "cell_type": "code",
   "execution_count": null,
   "id": "58a7a60e",
   "metadata": {},
   "outputs": [],
   "source": []
  },
  {
   "cell_type": "raw",
   "id": "da455160",
   "metadata": {},
   "source": [
    "Exercise 5: Display numbers from a list using loop\n",
    "Write a program to display only those numbers from a list that satisfy the following conditions\n",
    "\n",
    "The number must be divisible by five\n",
    "If the number is greater than 150, then skip it and move to the next number\n",
    "If the number is greater than 500, then stop the loop\n",
    "Given:\n",
    "\n",
    "numbers = [12, 75, 150, 180, 145, 525, 50]\n",
    "Expected output:\n",
    "\n",
    "75\n",
    "150\n",
    "145"
   ]
  },
  {
   "cell_type": "code",
   "execution_count": 52,
   "id": "e8889518",
   "metadata": {
    "ExecuteTime": {
     "end_time": "2022-06-03T19:26:26.109876Z",
     "start_time": "2022-06-03T19:26:26.096878Z"
    }
   },
   "outputs": [
    {
     "name": "stdout",
     "output_type": "stream",
     "text": [
      "75\n",
      "150\n",
      "145\n"
     ]
    }
   ],
   "source": [
    "num = [12, 75, 150, 180, 145, 525, 50]\n",
    "\n",
    "for i in num:\n",
    "    if i > 500 :\n",
    "        break\n",
    "    elif i > 150 :\n",
    "        continue\n",
    "    elif i % 5 == 0 :\n",
    "        print(i)"
   ]
  },
  {
   "cell_type": "code",
   "execution_count": null,
   "id": "8d725373",
   "metadata": {},
   "outputs": [],
   "source": []
  },
  {
   "cell_type": "raw",
   "id": "908f985a",
   "metadata": {},
   "source": [
    "Exercise 7: Print the following pattern\n",
    "Write a program to use for loop to print the following reverse number pattern\n",
    "\n",
    "5 4 3 2 1 \n",
    "4 3 2 1 \n",
    "3 2 1 \n",
    "2 1 \n",
    "1"
   ]
  },
  {
   "cell_type": "code",
   "execution_count": 53,
   "id": "744861bd",
   "metadata": {
    "ExecuteTime": {
     "end_time": "2022-06-03T19:26:26.125829Z",
     "start_time": "2022-06-03T19:26:26.111837Z"
    }
   },
   "outputs": [
    {
     "name": "stdout",
     "output_type": "stream",
     "text": [
      "\n",
      "5   4   3   2   1   \n",
      "4   3   2   1   \n",
      "3   2   1   \n",
      "2   1   \n",
      "1   "
     ]
    }
   ],
   "source": [
    "for i in range(5,0,-1):\n",
    "    print()\n",
    "    for j in range(i,0,-1):\n",
    "        print(j,' ',end=' ')"
   ]
  },
  {
   "cell_type": "code",
   "execution_count": null,
   "id": "fc2f043a",
   "metadata": {},
   "outputs": [],
   "source": []
  },
  {
   "cell_type": "raw",
   "id": "a2885bad",
   "metadata": {},
   "source": [
    "Exercise 8: Print list in reverse order using a loop\n",
    "Given:\n",
    "\n",
    "list1 = [10, 20, 30, 40, 50]\n",
    "Expected output:\n",
    "\n",
    "50\n",
    "40\n",
    "30\n",
    "20\n",
    "10"
   ]
  },
  {
   "cell_type": "code",
   "execution_count": 54,
   "id": "7d418f3d",
   "metadata": {
    "ExecuteTime": {
     "end_time": "2022-06-03T19:26:26.141779Z",
     "start_time": "2022-06-03T19:26:26.126828Z"
    }
   },
   "outputs": [
    {
     "name": "stdout",
     "output_type": "stream",
     "text": [
      "50\n",
      "40\n",
      "30\n",
      "20\n",
      "10\n"
     ]
    }
   ],
   "source": [
    "list1 = [10, 20, 30, 40, 50]\n",
    "for i in range(len(list1)-1,-1,-1):\n",
    "    print(list1[i])"
   ]
  },
  {
   "cell_type": "code",
   "execution_count": null,
   "id": "5c4619b5",
   "metadata": {},
   "outputs": [],
   "source": []
  },
  {
   "cell_type": "raw",
   "id": "a21eea0c",
   "metadata": {},
   "source": [
    "Exercise 9: Display numbers from -10 to -1 using for loop\n",
    "Expected output:\n",
    "\n",
    "-10\n",
    "-9\n",
    "-8\n",
    "-7\n",
    "-6\n",
    "-5\n",
    "-4\n",
    "-3\n",
    "-2\n",
    "-1"
   ]
  },
  {
   "cell_type": "code",
   "execution_count": 55,
   "id": "c34a8138",
   "metadata": {
    "ExecuteTime": {
     "end_time": "2022-06-03T19:26:26.157745Z",
     "start_time": "2022-06-03T19:26:26.142752Z"
    }
   },
   "outputs": [
    {
     "name": "stdout",
     "output_type": "stream",
     "text": [
      "-10\n",
      "-9\n",
      "-8\n",
      "-7\n",
      "-6\n",
      "-5\n",
      "-4\n",
      "-3\n",
      "-2\n",
      "-1\n"
     ]
    }
   ],
   "source": [
    "for i in range(-10,0,1):\n",
    "    print(i)"
   ]
  },
  {
   "cell_type": "code",
   "execution_count": null,
   "id": "b421a269",
   "metadata": {},
   "outputs": [],
   "source": []
  },
  {
   "cell_type": "raw",
   "id": "e957e552",
   "metadata": {},
   "source": [
    "Exercise 10: Use else block to display a message “Done” after successful execution of for loop\n",
    "For example, the following loop will execute without any error.\n",
    "\n",
    "Given:\n",
    "\n",
    "for i in range(5):\n",
    "    print(i)\n",
    "Expected output:\n",
    "\n",
    "0\n",
    "1\n",
    "2\n",
    "3\n",
    "4\n",
    "Done!"
   ]
  },
  {
   "cell_type": "code",
   "execution_count": 56,
   "id": "0eee084e",
   "metadata": {
    "ExecuteTime": {
     "end_time": "2022-06-03T19:26:26.173702Z",
     "start_time": "2022-06-03T19:26:26.158710Z"
    }
   },
   "outputs": [
    {
     "name": "stdout",
     "output_type": "stream",
     "text": [
      "0\n",
      "1\n",
      "2\n",
      "3\n",
      "4\n",
      "Done!\n"
     ]
    }
   ],
   "source": [
    "for i in range(5):\n",
    "    print(i)\n",
    "else:\n",
    "    print(\"Done!\")"
   ]
  },
  {
   "cell_type": "code",
   "execution_count": null,
   "id": "943ecf5c",
   "metadata": {},
   "outputs": [],
   "source": []
  },
  {
   "cell_type": "raw",
   "id": "669c43dd",
   "metadata": {},
   "source": [
    "Exercise 11: Write a program to display all prime numbers within a range\n",
    "Note: A Prime Number is a number that cannot be made by multiplying other whole numbers. A prime number is a natural number greater than 1 that is not a product of two smaller natural numbers\n",
    "\n",
    "Examples:\n",
    "\n",
    "6 is not a prime mumber because it can be made by 2×3 = 6\n",
    "37 is a prime number because no other whole numbers multiply together to make it.\n",
    "Given:\n",
    "\n",
    "# range\n",
    "start = 25\n",
    "end = 50\n",
    "Expected output:\n",
    "\n",
    "Prime numbers between 25 and 50 are:\n",
    "29\n",
    "31\n",
    "37\n",
    "41\n",
    "43\n",
    "47\n"
   ]
  },
  {
   "cell_type": "code",
   "execution_count": 57,
   "id": "def7fbc5",
   "metadata": {
    "ExecuteTime": {
     "end_time": "2022-06-03T19:26:26.189659Z",
     "start_time": "2022-06-03T19:26:26.174699Z"
    }
   },
   "outputs": [
    {
     "name": "stdout",
     "output_type": "stream",
     "text": [
      "Prime numbers between  25 and 50 are:\n",
      "29\n",
      "31\n",
      "37\n",
      "41\n",
      "43\n",
      "47\n"
     ]
    }
   ],
   "source": [
    "start = 25\n",
    "end = 50\n",
    "print(\"Prime numbers between \", start, \"and\", end, \"are:\")\n",
    "\n",
    "for num in range(start, end + 1):\n",
    "    if num > 1:\n",
    "        for i in range(2, num):\n",
    "            if (num % i) == 0:\n",
    "                break\n",
    "        else:\n",
    "            print(num)"
   ]
  },
  {
   "cell_type": "code",
   "execution_count": null,
   "id": "da14a6be",
   "metadata": {},
   "outputs": [],
   "source": []
  },
  {
   "cell_type": "markdown",
   "id": "0066722e",
   "metadata": {
    "ExecuteTime": {
     "end_time": "2022-04-05T22:26:09.835789Z",
     "start_time": "2022-04-05T22:26:09.826779Z"
    }
   },
   "source": [
    "Exercise 12: Display Fibonacci series up to 10 terms\n",
    "The Fibonacci Sequence is a series of numbers. The next number is found by adding up the two numbers before it. The first two numbers are 0 and 1.\n",
    "\n",
    "For example, 0, 1, 1, 2, 3, 5, 8, 13, 21. The next number in this series above is 13+21 = 34.\n",
    "\n",
    "Expected output:\n",
    "\n",
    "Fibonacci sequence:\n",
    "0  1  1  2  3  5  8  13  21  34"
   ]
  },
  {
   "cell_type": "code",
   "execution_count": 58,
   "id": "c2903859",
   "metadata": {
    "ExecuteTime": {
     "end_time": "2022-06-03T19:26:26.205586Z",
     "start_time": "2022-06-03T19:26:26.190625Z"
    }
   },
   "outputs": [
    {
     "name": "stdout",
     "output_type": "stream",
     "text": [
      "Fibonacci sequence:\n",
      "0  1  1  2  3  5  8  13  21  34  "
     ]
    }
   ],
   "source": [
    "num1, num2 = 0, 1\n",
    "print(\"Fibonacci sequence:\")\n",
    "\n",
    "for i in range(10):\n",
    "    print(num1, end=\"  \")\n",
    "    res = num1 + num2\n",
    "    num1 = num2\n",
    "    num2 = res"
   ]
  },
  {
   "cell_type": "code",
   "execution_count": null,
   "id": "1c29859a",
   "metadata": {},
   "outputs": [],
   "source": []
  },
  {
   "cell_type": "code",
   "execution_count": null,
   "id": "b183dea6",
   "metadata": {},
   "outputs": [],
   "source": [
    "## Python Functions Exercise"
   ]
  },
  {
   "cell_type": "code",
   "execution_count": 60,
   "id": "9f925ec0",
   "metadata": {
    "ExecuteTime": {
     "end_time": "2022-06-03T19:26:26.236534Z",
     "start_time": "2022-06-03T19:26:26.221541Z"
    }
   },
   "outputs": [],
   "source": [
    "## Python String Exercise"
   ]
  },
  {
   "cell_type": "code",
   "execution_count": 61,
   "id": "45861dd3",
   "metadata": {
    "ExecuteTime": {
     "end_time": "2022-06-03T19:26:26.252483Z",
     "start_time": "2022-06-03T19:26:26.237499Z"
    }
   },
   "outputs": [],
   "source": [
    "## Python Data Structure Exercise"
   ]
  },
  {
   "cell_type": "code",
   "execution_count": 62,
   "id": "7c6ef68d",
   "metadata": {
    "ExecuteTime": {
     "end_time": "2022-06-03T19:26:26.268452Z",
     "start_time": "2022-06-03T19:26:26.253456Z"
    }
   },
   "outputs": [],
   "source": [
    "## Python List Exercise"
   ]
  },
  {
   "cell_type": "code",
   "execution_count": 63,
   "id": "852b37c7",
   "metadata": {
    "ExecuteTime": {
     "end_time": "2022-06-03T19:26:26.284374Z",
     "start_time": "2022-06-03T19:26:26.269413Z"
    }
   },
   "outputs": [],
   "source": [
    "## Python Dictionary Exercise"
   ]
  },
  {
   "cell_type": "code",
   "execution_count": 64,
   "id": "093fdc7c",
   "metadata": {
    "ExecuteTime": {
     "end_time": "2022-06-03T19:26:26.300330Z",
     "start_time": "2022-06-03T19:26:26.286368Z"
    }
   },
   "outputs": [],
   "source": [
    "## Python Set Exercise"
   ]
  },
  {
   "cell_type": "code",
   "execution_count": 65,
   "id": "86a9dbbb",
   "metadata": {
    "ExecuteTime": {
     "end_time": "2022-06-03T19:26:26.316320Z",
     "start_time": "2022-06-03T19:26:26.301328Z"
    }
   },
   "outputs": [],
   "source": [
    "## Python Tuple Exercise"
   ]
  },
  {
   "cell_type": "code",
   "execution_count": 66,
   "id": "403e3914",
   "metadata": {
    "ExecuteTime": {
     "end_time": "2022-06-03T19:26:26.331284Z",
     "start_time": "2022-06-03T19:26:26.317287Z"
    }
   },
   "outputs": [],
   "source": [
    "## Python Date and Time Exercise"
   ]
  },
  {
   "cell_type": "code",
   "execution_count": 67,
   "id": "3eda74e6",
   "metadata": {
    "ExecuteTime": {
     "end_time": "2022-06-03T19:26:26.347239Z",
     "start_time": "2022-06-03T19:26:26.333278Z"
    }
   },
   "outputs": [],
   "source": [
    "## Python OOP Exercise"
   ]
  },
  {
   "cell_type": "code",
   "execution_count": 68,
   "id": "4f467d3b",
   "metadata": {
    "ExecuteTime": {
     "end_time": "2022-06-03T19:26:26.363196Z",
     "start_time": "2022-06-03T19:26:26.348202Z"
    }
   },
   "outputs": [],
   "source": [
    "## Python JSON Exercise"
   ]
  },
  {
   "cell_type": "code",
   "execution_count": 69,
   "id": "49773d75",
   "metadata": {
    "ExecuteTime": {
     "end_time": "2022-06-03T19:26:26.379155Z",
     "start_time": "2022-06-03T19:26:26.365157Z"
    }
   },
   "outputs": [],
   "source": [
    "## Python NumPy Exercise"
   ]
  },
  {
   "cell_type": "code",
   "execution_count": 70,
   "id": "61392289",
   "metadata": {
    "ExecuteTime": {
     "end_time": "2022-06-03T19:26:26.395078Z",
     "start_time": "2022-06-03T19:26:26.380150Z"
    }
   },
   "outputs": [],
   "source": [
    "## Python Pandas Exercise"
   ]
  },
  {
   "cell_type": "code",
   "execution_count": 71,
   "id": "b12e63a4",
   "metadata": {
    "ExecuteTime": {
     "end_time": "2022-06-03T19:26:26.411068Z",
     "start_time": "2022-06-03T19:26:26.396106Z"
    }
   },
   "outputs": [],
   "source": [
    "## Python Matplotlib Exercise"
   ]
  },
  {
   "cell_type": "code",
   "execution_count": 72,
   "id": "98c80aad",
   "metadata": {
    "ExecuteTime": {
     "end_time": "2022-06-03T19:26:26.426028Z",
     "start_time": "2022-06-03T19:26:26.412032Z"
    }
   },
   "outputs": [],
   "source": [
    "## Random Data Generation Exercise"
   ]
  },
  {
   "cell_type": "code",
   "execution_count": 73,
   "id": "3500b6b9",
   "metadata": {
    "ExecuteTime": {
     "end_time": "2022-06-03T19:26:26.441987Z",
     "start_time": "2022-06-03T19:26:26.426992Z"
    }
   },
   "outputs": [],
   "source": [
    "## Python Database Exercise"
   ]
  },
  {
   "cell_type": "code",
   "execution_count": 74,
   "id": "1bf77d89",
   "metadata": {
    "ExecuteTime": {
     "end_time": "2022-06-03T19:26:26.457941Z",
     "start_time": "2022-06-03T19:26:26.443947Z"
    }
   },
   "outputs": [],
   "source": [
    "## Exercises for Intermediate developers"
   ]
  },
  {
   "cell_type": "code",
   "execution_count": null,
   "id": "e408e737",
   "metadata": {},
   "outputs": [],
   "source": []
  }
 ],
 "metadata": {
  "kernelspec": {
   "display_name": "Python 3 (ipykernel)",
   "language": "python",
   "name": "python3"
  },
  "language_info": {
   "codemirror_mode": {
    "name": "ipython",
    "version": 3
   },
   "file_extension": ".py",
   "mimetype": "text/x-python",
   "name": "python",
   "nbconvert_exporter": "python",
   "pygments_lexer": "ipython3",
   "version": "3.8.8"
  },
  "toc": {
   "base_numbering": 1,
   "nav_menu": {},
   "number_sections": true,
   "sideBar": true,
   "skip_h1_title": false,
   "title_cell": "Table of Contents",
   "title_sidebar": "Contents",
   "toc_cell": false,
   "toc_position": {},
   "toc_section_display": true,
   "toc_window_display": false
  },
  "varInspector": {
   "cols": {
    "lenName": 16,
    "lenType": 16,
    "lenVar": 40
   },
   "kernels_config": {
    "python": {
     "delete_cmd_postfix": "",
     "delete_cmd_prefix": "del ",
     "library": "var_list.py",
     "varRefreshCmd": "print(var_dic_list())"
    },
    "r": {
     "delete_cmd_postfix": ") ",
     "delete_cmd_prefix": "rm(",
     "library": "var_list.r",
     "varRefreshCmd": "cat(var_dic_list()) "
    }
   },
   "types_to_exclude": [
    "module",
    "function",
    "builtin_function_or_method",
    "instance",
    "_Feature"
   ],
   "window_display": false
  }
 },
 "nbformat": 4,
 "nbformat_minor": 5
}
